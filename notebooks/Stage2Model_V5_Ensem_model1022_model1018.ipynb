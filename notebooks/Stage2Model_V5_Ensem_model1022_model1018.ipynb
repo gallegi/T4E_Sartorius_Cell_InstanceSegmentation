{
 "cells": [
  {
   "cell_type": "code",
   "execution_count": 1,
   "metadata": {},
   "outputs": [],
   "source": [
    "# Change from V5\n",
    "# - Instance filted by min area"
   ]
  },
  {
   "cell_type": "code",
   "execution_count": 1,
   "metadata": {},
   "outputs": [],
   "source": [
    "import numpy as np\n",
    "import detectron2\n",
    "from pathlib import Path\n",
    "import random, cv2, os\n",
    "import matplotlib.pyplot as plt\n",
    "# import some common detectron2 utilities\n",
    "from detectron2 import model_zoo\n",
    "from detectron2.engine import DefaultPredictor, DefaultTrainer\n",
    "from detectron2.config import get_cfg, CfgNode\n",
    "from detectron2.utils.visualizer import Visualizer, ColorMode\n",
    "from detectron2.data import MetadataCatalog, DatasetCatalog, DatasetMapper, build_detection_train_loader\n",
    "from detectron2.data.datasets import register_coco_instances\n",
    "from detectron2.modeling.backbone import fpn_resneSt\n",
    "from detectron2.structures.instances import Instances\n",
    "\n",
    "import pandas as pd\n",
    "import pickle\n",
    "import pycocotools.mask as mask_util\n",
    "from tqdm.notebook import tqdm\n",
    "from sklearn.neighbors import KDTree"
   ]
  },
  {
   "cell_type": "code",
   "execution_count": 2,
   "metadata": {},
   "outputs": [],
   "source": [
    "import sys\n",
    "sys.path.append('/tf/SartoriusCIS/utils/')\n",
    "from metric_by_outputs import calculate_AP"
   ]
  },
  {
   "cell_type": "code",
   "execution_count": null,
   "metadata": {
    "scrolled": true
   },
   "outputs": [],
   "source": []
  },
  {
   "cell_type": "code",
   "execution_count": 3,
   "metadata": {},
   "outputs": [],
   "source": [
    "ROOT_FOLDER = '/tf/SartoriusCIS/'\n",
    "ANN_DIR = f'{ROOT_FOLDER}/data/annotation'\n",
    "DATA_DIR = f'{ROOT_FOLDER}/data/LiveCell_OriginalData_Merged/images'\n",
    "\n",
    "# PKL_FOLDER = 'valid_outputs/ens_v4.3_v13_v16_pixel_score/'\n",
    "VER = '5_ens_m1022_m1018'"
   ]
  },
  {
   "cell_type": "code",
   "execution_count": 4,
   "metadata": {},
   "outputs": [],
   "source": [
    "def get_pkl_folder(d):\n",
    "    category_id = d['annotations'][0]['category_id']\n",
    "    return 'valid_outputs/ens_v21_v16_pixel_score/'\n"
   ]
  },
  {
   "cell_type": "code",
   "execution_count": 5,
   "metadata": {},
   "outputs": [],
   "source": [
    "dataDir=Path(DATA_DIR)\n",
    "\n",
    "register_coco_instances('sartorius_val_1',{}, f'{ANN_DIR}/valid/val_fold0_split_part1.json', dataDir)\n",
    "register_coco_instances('sartorius_val_2',{}, f'{ANN_DIR}/valid/val_fold0_split_part2.json', dataDir)\n",
    "\n",
    "metadata = MetadataCatalog.get('sartorius_val_1')\n",
    "valid_ds1 = DatasetCatalog.get('sartorius_val_1')\n",
    "valid_ds2 = DatasetCatalog.get('sartorius_val_2')"
   ]
  },
  {
   "cell_type": "code",
   "execution_count": 7,
   "metadata": {
    "scrolled": true
   },
   "outputs": [],
   "source": [
    "# outputs['instances'].pred_masks"
   ]
  },
  {
   "cell_type": "code",
   "execution_count": 8,
   "metadata": {},
   "outputs": [],
   "source": [
    "def calculate_max_IOU_with_gt(targ, pred):\n",
    "    pred_masks = pred['instances'].pred_masks >= 0.5\n",
    "    enc_preds = [mask_util.encode(np.asarray(p, order='F')) for p in pred_masks]\n",
    "    enc_targs = list(map(lambda x:x['segmentation'], targ))\n",
    "    ious = mask_util.iou(enc_preds, enc_targs, [0]*len(enc_targs))\n",
    "    \n",
    "    return ious.max(axis=1)\n",
    "\n",
    "def print_log(log):\n",
    "    for k in log.keys():\n",
    "        print(k, log[k])\n",
    "        \n",
    "def get_overlapping_features(pred):\n",
    "    pred_masks = pred['instances'].pred_masks >= 0.5\n",
    "    enc_preds = [mask_util.encode(np.asarray(p, order='F')) for p in pred_masks]\n",
    "    ious = mask_util.iou(enc_preds, enc_preds, [0]*len(enc_preds))\n",
    "    return ious.max(axis=1), ious.min(axis=1), ious.mean(axis=1),\\\n",
    "             ious.std(axis=1), (ious > 0).sum(axis=1)\n",
    "\n",
    "def get_contour_features(pred):\n",
    "    masks = (pred['instances'].pred_masks.numpy() >= 0.5).astype('uint8')\n",
    "    \n",
    "    data_dict = {\n",
    "        'centroid_x':[],\n",
    "        'centroid_y':[],\n",
    "        'num_contours': [],\n",
    "        'equi_diameter':[],\n",
    "        'hull_area':[],\n",
    "        'solidity':[],\n",
    "        'is_convex':[],\n",
    "        'perimeter':[],\n",
    "        'rotation_ang':[],\n",
    "        'major_axis_length':[],\n",
    "        'minor_axis_length':[]\n",
    "    }\n",
    "    \n",
    "    for mask in masks:\n",
    "        contours, _ = cv2.findContours(mask, 1, 2)\n",
    "        areas = [cv2.contourArea(cnt) for cnt in contours]\n",
    "        max_ind = np.argmax(areas)\n",
    "        \n",
    "        area = areas[max_ind]\n",
    "        cnt = contours[max_ind]\n",
    "        \n",
    "        M = cv2.moments(cnt)\n",
    "        cx = int(M['m10']/M['m00'])\n",
    "        cy = int(M['m01']/M['m00'])\n",
    "        \n",
    "        hull = cv2.convexHull(cnt)\n",
    "        hull_area = cv2.contourArea(hull)\n",
    "        solidity = float(area)/hull_area if hull_area > 0 else -1\n",
    "        \n",
    "        equi_diameter = np.sqrt(4*area/np.pi)\n",
    "        is_convex = int(cv2.isContourConvex(cnt))\n",
    "        perimeter = cv2.arcLength(cnt,True)\n",
    "        \n",
    "        try:\n",
    "            ellipse = cv2.fitEllipse(cnt)\n",
    "            _,(major_axis_length, minor_axis_length), rotation_ang = ellipse\n",
    "        except:\n",
    "            (major_axis_length, minor_axis_length), rotation_ang = (-1,-1),-1\n",
    "        \n",
    "        data_dict['centroid_x'].append(cx)\n",
    "        data_dict['centroid_y'].append(cy)\n",
    "        data_dict['num_contours'].append(len(contours))\n",
    "        data_dict['equi_diameter'].append(equi_diameter)\n",
    "        data_dict['solidity'].append(solidity)\n",
    "        data_dict['hull_area'].append(hull_area)\n",
    "        data_dict['is_convex'].append(is_convex)\n",
    "        data_dict['perimeter'].append(perimeter)\n",
    "        data_dict['rotation_ang'].append(rotation_ang)\n",
    "        data_dict['major_axis_length'].append(major_axis_length)\n",
    "        data_dict['minor_axis_length'].append(minor_axis_length)\n",
    "        \n",
    "    return pd.DataFrame(data_dict)\n",
    "\n",
    "def get_pixel_scores_features(outputs):\n",
    "    pred_masks = outputs['instances'].pred_masks\n",
    "    pred_masks_non_zeros = [mask[mask > 0] for mask in pred_masks]\n",
    "    min_pscores = [mask.min().item() for mask in pred_masks_non_zeros]\n",
    "    max_pscores = [mask.max().item() for mask in pred_masks_non_zeros]\n",
    "    median_pscores = [mask.median().item() for mask in pred_masks_non_zeros]\n",
    "    mean_pscores = [mask.mean().item() for mask in pred_masks_non_zeros]\n",
    "                    \n",
    "    q1_pscores =  [mask.quantile(0.25).item() for mask in pred_masks_non_zeros]\n",
    "    q3_pscores =  [mask.quantile(0.75).item() for mask in pred_masks_non_zeros]\n",
    "    std_pscores = [mask.std().item() for mask in pred_masks_non_zeros]\n",
    "    \n",
    "    ret = {\n",
    "        'min_pixel_score':min_pscores,\n",
    "        'max_pixel_score':max_pscores,\n",
    "        'median_pixel_score':median_pscores,\n",
    "        'mean_pixel_score':mean_pscores,\n",
    "        'q1_pixel_score':q1_pscores,\n",
    "        'q3_pixel_score':q3_pscores,\n",
    "        'std_pixel_score':std_pscores\n",
    "    }\n",
    "    return pd.DataFrame(ret)\n",
    "\n",
    "def get_image_pixel_features(im, outputs):\n",
    "    pred_masks = outputs['instances'].pred_masks\n",
    "    pred_masks_binary = [mask > 0.5 for mask in pred_masks]\n",
    "    im_masks = [im[mask,0] for mask in pred_masks_binary]\n",
    "    \n",
    "    min_pscores = [mask.min().item() for mask in im_masks]\n",
    "    max_pscores = [mask.max().item() for mask in im_masks]\n",
    "    median_pscores = [np.median(mask).item() for mask in im_masks]\n",
    "    mean_pscores = [mask.mean().item() for mask in im_masks]\n",
    "                    \n",
    "    q1_pscores =  [np.quantile(mask, 0.25).item() for mask in im_masks]\n",
    "    q3_pscores =  [np.quantile(mask, 0.75) for mask in im_masks]\n",
    "    std_pscores = [mask.std() for mask in im_masks]\n",
    "    \n",
    "    ret = {\n",
    "        'im_min_pixel':min_pscores,\n",
    "        'im_max_pixel':max_pscores,\n",
    "        'im_median_pixel':median_pscores,\n",
    "        'im_mean_pixel':mean_pscores,\n",
    "        'im_q1_pixel':q1_pscores,\n",
    "        'im_q3_pixel':q3_pscores,\n",
    "        'im_std_pixel':std_pscores\n",
    "    }\n",
    "    return pd.DataFrame(ret)\n",
    "\n",
    "def get_kdtree_nb_features(single_features):\n",
    "    cols = ['centroid_x', 'centroid_y']\n",
    "    X = single_features[cols]\n",
    "    tree = KDTree(X)  \n",
    "    \n",
    "    ret = dict()\n",
    "    for r in [25, 50, 75, 100, 150, 200]:\n",
    "        ind, dist = tree.query_radius(X, r=r, return_distance=True, sort_results=True)  \n",
    "        ind = [i[1:] for i in ind] # exclude neareast neighbor (itself)\n",
    "        dist = [d[1:] for d in dist] # exclude neareast neighbor (itself)\n",
    "        \n",
    "        ret[f'kdtree_nb_r{r}_count'] = [len(ind) for i in ind]\n",
    "        \n",
    "        ret[f'kdtree_nb_r{r}_median_dist'] = [np.median(d) if len(d)>0 else -1 for d in dist]\n",
    "        ret[f'kdtree_nb_r{r}_mean_dist'] = [d.mean() if len(d)>0 else -1 for d in dist]\n",
    "        ret[f'kdtree_nb_r{r}_std_dist'] = [np.std(d) if len(d)>0 else -1 for d in dist]\n",
    "        \n",
    "        ret[f'kdtree_nb_r{r}_median_area'] = [single_features.loc[i, 'mask_area'].median() if len(i)>0 else -1 for i in ind]\n",
    "        ret[f'kdtree_nb_r{r}_mean_area'] = [single_features.loc[i, 'mask_area'].mean() if len(i)>0 else -1 for i in ind]\n",
    "        ret[f'kdtree_nb_r{r}_std_area'] = [single_features.loc[i, 'mask_area'].std() if len(i)>0 else -1 for i in ind]\n",
    "        \n",
    "        ret[f'kdtree_nb_r{r}_median_box_score'] = [single_features.loc[i, 'box_score'].median() if len(i)>0 else -1 for i in ind]\n",
    "        ret[f'kdtree_nb_r{r}_mean_box_score'] = [single_features.loc[i, 'box_score'].mean() if len(i)>0 else -1 for i in ind]\n",
    "        ret[f'kdtree_nb_r{r}_std_box_score'] = [single_features.loc[i, 'box_score'].std() if len(i)>0 else -1 for i in ind]\n",
    "        \n",
    "    for k in [2,3,5,7]:\n",
    "        dist, ind = tree.query(X, k=k, return_distance=True)  \n",
    "        ind = [i[1:] for i in ind] # exclude neareast neighbor (itself)\n",
    "        dist = [d[1:] for d in dist] # exclude neareast neighbor (itself)\n",
    "        \n",
    "        ret[f'kdtree_nb_top{k}_median_dist'] = [np.median(d) if len(d)>0 else -1 for d in dist]\n",
    "        ret[f'kdtree_nb_top{k}_mean_dist'] = [d.mean() if len(d)>0 else -1  for d in dist]\n",
    "        ret[f'kdtree_nb_top{k}_std_dist'] = [np.std(d) if len(d)>0 else -1 for d in dist]\n",
    "        \n",
    "        ret[f'kdtree_nb_top{k}_median_area'] = [single_features.loc[i, 'mask_area'].median() if len(i)>0 else -1 for i in ind]\n",
    "        ret[f'kdtree_nb_top{k}_mean_area'] = [single_features.loc[i, 'mask_area'].mean() if len(i)>0 else -1 for i in ind]\n",
    "        ret[f'kdtree_nb_top{k}_std_area'] = [single_features.loc[i, 'mask_area'].std() if len(i)>0 else -1 for i in ind]\n",
    "        \n",
    "        ret[f'kdtree_nb_top{k}_median_box_score'] = [single_features.loc[i, 'box_score'].median() if len(i)>0 else -1 for i in ind]\n",
    "        ret[f'kdtree_nb_top{k}_mean_box_score'] = [single_features.loc[i, 'box_score'].mean() if len(i)>0 else -1 for i in ind]\n",
    "        ret[f'kdtree_nb_top{k}_std_box_score'] = [single_features.loc[i, 'box_score'].std() if len(i)>0 else -1 for i in ind]\n",
    "        \n",
    "    return pd.DataFrame(ret)    \n",
    "    \n",
    "def get_features(im, outputs):\n",
    "    pred_masks = outputs['instances'].pred_masks\n",
    "    \n",
    "    mask_areas = (pred_masks >= 0.5).sum(axis=(1,2))\n",
    "    pred_boxes = outputs['instances'].pred_boxes.tensor\n",
    "    widths = pred_boxes[:,2] - pred_boxes[:,0]\n",
    "    heights = pred_boxes[:,3] - pred_boxes[:,1]\n",
    "    box_areas = widths * heights\n",
    "    \n",
    "    box_scores = outputs['instances'].scores\n",
    "    instance_count = len(outputs['instances'])\n",
    "    \n",
    "    aspect_ratios = widths / heights\n",
    "    extents = mask_areas / box_areas\n",
    "    \n",
    "    neighbor_iou_max, neighbor_iou_min, neighbor_iou_mean, \\\n",
    "        neighbor_iou_std, neighbor_overlap_count = get_overlapping_features(outputs)\n",
    "    \n",
    "    contour_features = get_contour_features(outputs)\n",
    "    pixel_features = get_pixel_scores_features(outputs)\n",
    "    im_pixel_features = get_image_pixel_features(im, outputs)\n",
    "    \n",
    "    ret = pd.DataFrame({\n",
    "        'box_score':box_scores,\n",
    "        'mask_area':mask_areas,\n",
    "        'box_area':box_areas,\n",
    "        'box_x1':pred_boxes[:,0],\n",
    "        'box_y1':pred_boxes[:,1],\n",
    "        'box_x2':pred_boxes[:,2],\n",
    "        'box_y2':pred_boxes[:,3],\n",
    "        'width':widths,\n",
    "        'height':heights,\n",
    "        'instance_count':instance_count,\n",
    "        \n",
    "        'neighbor_iou_max':neighbor_iou_max,\n",
    "        'neighbor_iou_min':neighbor_iou_min,\n",
    "        'neighbor_iou_mean':neighbor_iou_mean,\n",
    "        'neighbor_iou_std':neighbor_iou_std,\n",
    "        'neighbor_overlap_count':neighbor_overlap_count,\n",
    "        \n",
    "        'aspect_ratio':aspect_ratios,\n",
    "        'extent':extents\n",
    "    })\n",
    "    \n",
    "    ret = pd.concat([ret, contour_features, pixel_features, im_pixel_features], axis=1)\n",
    "    kdtree_nb_features = get_kdtree_nb_features(ret)\n",
    "    ret = pd.concat([ret, kdtree_nb_features], axis=1)\n",
    "    return ret"
   ]
  },
  {
   "cell_type": "code",
   "execution_count": 9,
   "metadata": {},
   "outputs": [],
   "source": [
    "FEATURES_TO_AGG = ['box_score', 'mask_area', 'width', 'height']\n",
    "\n",
    "def get_aggregation_features(features):\n",
    "    ret = features.copy()\n",
    "    for agg_scheme in ['image_id', 'cell_type']:\n",
    "        agg_ft = features.groupby(agg_scheme)[FEATURES_TO_AGG].agg(['mean', 'median'])\n",
    "        agg_ft.columns = [f\"agg_by_{agg_scheme}_\"+\"_\".join(a) for a in agg_ft.columns.to_flat_index()]\n",
    "        agg_ft = agg_ft.reset_index()\n",
    "        \n",
    "        ret = ret.merge(agg_ft, on=agg_scheme)\n",
    "    return ret"
   ]
  },
  {
   "cell_type": "code",
   "execution_count": 10,
   "metadata": {
    "scrolled": true
   },
   "outputs": [
    {
     "name": "stdout",
     "output_type": "stream",
     "text": [
      "0.12095385522630105 2.2 10.8 6.8\n",
      "0.5 {'AP': 0.29411764705882354, 'TP': 5, 'FP': 8, 'FN': 4}\n",
      "0.55 {'AP': 0.29411764705882354, 'TP': 5, 'FP': 8, 'FN': 4}\n",
      "0.6 {'AP': 0.15789473684210525, 'TP': 3, 'FP': 10, 'FN': 6}\n",
      "0.65 {'AP': 0.15789473684210525, 'TP': 3, 'FP': 10, 'FN': 6}\n",
      "0.7 {'AP': 0.15789473684210525, 'TP': 3, 'FP': 10, 'FN': 6}\n",
      "0.75 {'AP': 0.1, 'TP': 2, 'FP': 11, 'FN': 7}\n",
      "0.8 {'AP': 0.047619047619047616, 'TP': 1, 'FP': 12, 'FN': 8}\n",
      "0.85 {'AP': 0.0, 'TP': 0, 'FP': 13, 'FN': 9}\n",
      "0.9 {'AP': 0.0, 'TP': 0, 'FP': 13, 'FN': 9}\n",
      "0.95 {'AP': 0.0, 'TP': 0, 'FP': 13, 'FN': 9}\n"
     ]
    }
   ],
   "source": [
    "d = valid_ds1[0]\n",
    "im = cv2.imread(d['file_name'])\n",
    "\n",
    "PKL_FOLDER = get_pkl_folder(d)\n",
    "path = f'{PKL_FOLDER}/{d[\"image_id\"]}.pkl'\n",
    "\n",
    "with open(path, 'rb') as f:\n",
    "    outputs = pickle.load(f)\n",
    "    outputs['instances'] = outputs['instances'].to('cpu')\n",
    "    \n",
    "    features = get_features(im, outputs)\n",
    "    features['image_id'] = [d['image_id']]*len(features)\n",
    "    df = features.copy()\n",
    "    df['iou'] = calculate_max_IOU_with_gt(d['annotations'], outputs)\n",
    "    \n",
    "outputs['instances'].pred_masks = outputs['instances'].pred_masks >= 0.5\n",
    "AP, TP, FP, FN, log = calculate_AP(outputs, d['annotations'])\n",
    "print(AP, TP, FP, FN)\n",
    "print_log(log)"
   ]
  },
  {
   "cell_type": "code",
   "execution_count": null,
   "metadata": {},
   "outputs": [],
   "source": []
  },
  {
   "cell_type": "code",
   "execution_count": 11,
   "metadata": {
    "scrolled": true
   },
   "outputs": [],
   "source": [
    "# ret = get_kdtree_nb_features(features)"
   ]
  },
  {
   "cell_type": "code",
   "execution_count": 12,
   "metadata": {},
   "outputs": [],
   "source": [
    "# get_contour_features(outputs)"
   ]
  },
  {
   "cell_type": "code",
   "execution_count": 13,
   "metadata": {},
   "outputs": [],
   "source": [
    "# contour_features = get_contour_features(outputs)"
   ]
  },
  {
   "cell_type": "code",
   "execution_count": 14,
   "metadata": {},
   "outputs": [],
   "source": [
    "# get_pixel_scores_features(outputs)"
   ]
  },
  {
   "cell_type": "code",
   "execution_count": 15,
   "metadata": {
    "scrolled": true
   },
   "outputs": [
    {
     "data": {
      "application/vnd.jupyter.widget-view+json": {
       "model_id": "a44fc7345d4c4788acc51cd5f05a5c0e",
       "version_major": 2,
       "version_minor": 0
      },
      "text/plain": [
       "  0%|          | 0/56 [00:00<?, ?it/s]"
      ]
     },
     "metadata": {},
     "output_type": "display_data"
    }
   ],
   "source": [
    "train_df = pd.DataFrame()\n",
    "\n",
    "for d in tqdm(valid_ds1, total=len(valid_ds1)):\n",
    "    PKL_FOLDER = get_pkl_folder(d)\n",
    "    path = f'{PKL_FOLDER}/{d[\"image_id\"]}.pkl'\n",
    "    \n",
    "    im = cv2.imread(d['file_name'])\n",
    "\n",
    "    with open(path, 'rb') as f:\n",
    "        outputs = pickle.load(f)\n",
    "        outputs['instances'] = outputs['instances'].to('cpu')\n",
    "        \n",
    "    features = get_features(im, outputs)\n",
    "    \n",
    "    features['image_id'] = [d['image_id']]*len(features)\n",
    "    features['instance_num'] = np.arange(0, len(features))\n",
    "    features['cell_type'] = [d['annotations'][0]['category_id']]*len(features)\n",
    "    features['iou'] = calculate_max_IOU_with_gt(d['annotations'], outputs)\n",
    "    \n",
    "    train_df = pd.concat([train_df, features], axis=0)"
   ]
  },
  {
   "cell_type": "code",
   "execution_count": 16,
   "metadata": {},
   "outputs": [
    {
     "data": {
      "application/vnd.jupyter.widget-view+json": {
       "model_id": "68738ebbf3564d2ca6f0853300528ce3",
       "version_major": 2,
       "version_minor": 0
      },
      "text/plain": [
       "  0%|          | 0/63 [00:00<?, ?it/s]"
      ]
     },
     "metadata": {},
     "output_type": "display_data"
    }
   ],
   "source": [
    "valid_df = pd.DataFrame()\n",
    "\n",
    "for d in tqdm(valid_ds2, total=len(valid_ds2)):\n",
    "    PKL_FOLDER = get_pkl_folder(d)\n",
    "    path = f'{PKL_FOLDER}/{d[\"image_id\"]}.pkl'\n",
    "    \n",
    "    im = cv2.imread(d['file_name'])\n",
    "\n",
    "    with open(path, 'rb') as f:\n",
    "        outputs = pickle.load(f)\n",
    "        outputs['instances'] = outputs['instances'].to('cpu')\n",
    "        \n",
    "    features = get_features(im, outputs)\n",
    "    features['image_id'] = [d['image_id']]*len(features)\n",
    "    features['instance_num'] = np.arange(0, len(features))\n",
    "    features['cell_type'] = [d['annotations'][0]['category_id']]*len(features)\n",
    "    features['iou'] = calculate_max_IOU_with_gt(d['annotations'], outputs)\n",
    "    \n",
    "    valid_df = pd.concat([valid_df, features], axis=0)"
   ]
  },
  {
   "cell_type": "code",
   "execution_count": null,
   "metadata": {
    "scrolled": true
   },
   "outputs": [],
   "source": []
  },
  {
   "cell_type": "code",
   "execution_count": 17,
   "metadata": {
    "scrolled": true
   },
   "outputs": [],
   "source": [
    "# train_df= pd.read_csv('tmp_stage2_v5_model1022.csv')"
   ]
  },
  {
   "cell_type": "code",
   "execution_count": 18,
   "metadata": {},
   "outputs": [
    {
     "data": {
      "text/plain": [
       "5714"
      ]
     },
     "execution_count": 18,
     "metadata": {},
     "output_type": "execute_result"
    }
   ],
   "source": [
    "len(train_df)"
   ]
  },
  {
   "cell_type": "code",
   "execution_count": 22,
   "metadata": {},
   "outputs": [
    {
     "data": {
      "text/plain": [
       "6658"
      ]
     },
     "execution_count": 22,
     "metadata": {},
     "output_type": "execute_result"
    }
   ],
   "source": [
    "# valid_df = pd.read_csv('tmp_stage2_v5_model1022_valid.csv')\n",
    "len(valid_df)"
   ]
  },
  {
   "cell_type": "code",
   "execution_count": 19,
   "metadata": {},
   "outputs": [],
   "source": [
    "# train_df = get_aggregation_features(train_df)\n",
    "# valid_df = get_aggregation_features(valid_df)"
   ]
  },
  {
   "cell_type": "code",
   "execution_count": 20,
   "metadata": {},
   "outputs": [
    {
     "data": {
      "text/plain": [
       "142"
      ]
     },
     "execution_count": 20,
     "metadata": {},
     "output_type": "execute_result"
    }
   ],
   "source": [
    "len(train_df.columns.tolist())"
   ]
  },
  {
   "cell_type": "code",
   "execution_count": 21,
   "metadata": {},
   "outputs": [],
   "source": [
    "from sklearn.model_selection import cross_val_score\n",
    "from lightgbm import LGBMRegressor\n",
    "from catboost import CatBoostRegressor\n",
    "from sklearn.ensemble import RandomForestRegressor\n",
    "\n",
    "from sklearn.metrics import mean_absolute_error, precision_score, roc_auc_score\n",
    "\n",
    "import seaborn as sns"
   ]
  },
  {
   "cell_type": "code",
   "execution_count": 22,
   "metadata": {},
   "outputs": [],
   "source": [
    "excluded = ['image_id', 'iou', 'instance_num']\n",
    "X_cols = []\n",
    "for col in train_df.columns:\n",
    "    if(col not in excluded):\n",
    "        X_cols.append(col)"
   ]
  },
  {
   "cell_type": "code",
   "execution_count": 23,
   "metadata": {
    "scrolled": true
   },
   "outputs": [
    {
     "name": "stdout",
     "output_type": "stream",
     "text": [
      "['box_score', 'mask_area', 'box_area', 'box_x1', 'box_y1', 'box_x2', 'box_y2', 'width', 'height', 'instance_count', 'neighbor_iou_max', 'neighbor_iou_min', 'neighbor_iou_mean', 'neighbor_iou_std', 'neighbor_overlap_count', 'aspect_ratio', 'extent', 'centroid_x', 'centroid_y', 'num_contours', 'equi_diameter', 'hull_area', 'solidity', 'is_convex', 'perimeter', 'rotation_ang', 'major_axis_length', 'minor_axis_length', 'min_pixel_score', 'max_pixel_score', 'median_pixel_score', 'mean_pixel_score', 'q1_pixel_score', 'q3_pixel_score', 'std_pixel_score', 'im_min_pixel', 'im_max_pixel', 'im_median_pixel', 'im_mean_pixel', 'im_q1_pixel', 'im_q3_pixel', 'im_std_pixel', 'kdtree_nb_r25_count', 'kdtree_nb_r25_median_dist', 'kdtree_nb_r25_mean_dist', 'kdtree_nb_r25_std_dist', 'kdtree_nb_r25_median_area', 'kdtree_nb_r25_mean_area', 'kdtree_nb_r25_std_area', 'kdtree_nb_r25_median_box_score', 'kdtree_nb_r25_mean_box_score', 'kdtree_nb_r25_std_box_score', 'kdtree_nb_r50_count', 'kdtree_nb_r50_median_dist', 'kdtree_nb_r50_mean_dist', 'kdtree_nb_r50_std_dist', 'kdtree_nb_r50_median_area', 'kdtree_nb_r50_mean_area', 'kdtree_nb_r50_std_area', 'kdtree_nb_r50_median_box_score', 'kdtree_nb_r50_mean_box_score', 'kdtree_nb_r50_std_box_score', 'kdtree_nb_r75_count', 'kdtree_nb_r75_median_dist', 'kdtree_nb_r75_mean_dist', 'kdtree_nb_r75_std_dist', 'kdtree_nb_r75_median_area', 'kdtree_nb_r75_mean_area', 'kdtree_nb_r75_std_area', 'kdtree_nb_r75_median_box_score', 'kdtree_nb_r75_mean_box_score', 'kdtree_nb_r75_std_box_score', 'kdtree_nb_r100_count', 'kdtree_nb_r100_median_dist', 'kdtree_nb_r100_mean_dist', 'kdtree_nb_r100_std_dist', 'kdtree_nb_r100_median_area', 'kdtree_nb_r100_mean_area', 'kdtree_nb_r100_std_area', 'kdtree_nb_r100_median_box_score', 'kdtree_nb_r100_mean_box_score', 'kdtree_nb_r100_std_box_score', 'kdtree_nb_r150_count', 'kdtree_nb_r150_median_dist', 'kdtree_nb_r150_mean_dist', 'kdtree_nb_r150_std_dist', 'kdtree_nb_r150_median_area', 'kdtree_nb_r150_mean_area', 'kdtree_nb_r150_std_area', 'kdtree_nb_r150_median_box_score', 'kdtree_nb_r150_mean_box_score', 'kdtree_nb_r150_std_box_score', 'kdtree_nb_r200_count', 'kdtree_nb_r200_median_dist', 'kdtree_nb_r200_mean_dist', 'kdtree_nb_r200_std_dist', 'kdtree_nb_r200_median_area', 'kdtree_nb_r200_mean_area', 'kdtree_nb_r200_std_area', 'kdtree_nb_r200_median_box_score', 'kdtree_nb_r200_mean_box_score', 'kdtree_nb_r200_std_box_score', 'kdtree_nb_top2_median_dist', 'kdtree_nb_top2_mean_dist', 'kdtree_nb_top2_std_dist', 'kdtree_nb_top2_median_area', 'kdtree_nb_top2_mean_area', 'kdtree_nb_top2_std_area', 'kdtree_nb_top2_median_box_score', 'kdtree_nb_top2_mean_box_score', 'kdtree_nb_top2_std_box_score', 'kdtree_nb_top3_median_dist', 'kdtree_nb_top3_mean_dist', 'kdtree_nb_top3_std_dist', 'kdtree_nb_top3_median_area', 'kdtree_nb_top3_mean_area', 'kdtree_nb_top3_std_area', 'kdtree_nb_top3_median_box_score', 'kdtree_nb_top3_mean_box_score', 'kdtree_nb_top3_std_box_score', 'kdtree_nb_top5_median_dist', 'kdtree_nb_top5_mean_dist', 'kdtree_nb_top5_std_dist', 'kdtree_nb_top5_median_area', 'kdtree_nb_top5_mean_area', 'kdtree_nb_top5_std_area', 'kdtree_nb_top5_median_box_score', 'kdtree_nb_top5_mean_box_score', 'kdtree_nb_top5_std_box_score', 'kdtree_nb_top7_median_dist', 'kdtree_nb_top7_mean_dist', 'kdtree_nb_top7_std_dist', 'kdtree_nb_top7_median_area', 'kdtree_nb_top7_mean_area', 'kdtree_nb_top7_std_area', 'kdtree_nb_top7_median_box_score', 'kdtree_nb_top7_mean_box_score', 'kdtree_nb_top7_std_box_score', 'cell_type']\n"
     ]
    }
   ],
   "source": [
    "print(X_cols)"
   ]
  },
  {
   "cell_type": "code",
   "execution_count": 24,
   "metadata": {},
   "outputs": [],
   "source": [
    "# X_cols = ['box_score', 'mask_area', 'box_area', 'box_x1', 'box_y1', 'box_x2', 'box_y2', 'width', 'height', 'instance_count', 'neighbor_iou_max', 'neighbor_iou_min', 'neighbor_iou_mean', 'neighbor_iou_std', 'neighbor_overlap_count', 'aspect_ratio', 'extent', 'centroid_x', 'centroid_y', 'num_contours', 'equi_diameter', 'hull_area', 'solidity', 'is_convex', 'perimeter', 'rotation_ang', 'major_axis_length', 'minor_axis_length', 'min_pixel_score', 'max_pixel_score', 'median_pixel_score', 'mean_pixel_score', 'q1_pixel_score', 'q3_pixel_score', 'std_pixel_score', 'im_min_pixel', 'im_max_pixel', 'im_median_pixel', 'im_mean_pixel', 'im_q1_pixel', 'im_q3_pixel', 'im_std_pixel', 'kdtree_nb_r25_median_dist', 'kdtree_nb_r25_mean_dist', 'kdtree_nb_r25_std_dist', 'kdtree_nb_r25_median_area', 'kdtree_nb_r25_mean_area', 'kdtree_nb_r25_std_area', 'kdtree_nb_r25_median_box_score', 'kdtree_nb_r25_mean_box_score', 'kdtree_nb_r25_std_box_score', 'kdtree_nb_r50_median_dist', 'kdtree_nb_r50_mean_dist', 'kdtree_nb_r50_std_dist', 'kdtree_nb_r50_median_area', 'kdtree_nb_r50_mean_area', 'kdtree_nb_r50_std_area', 'kdtree_nb_r50_median_box_score', 'kdtree_nb_r50_mean_box_score', 'kdtree_nb_r50_std_box_score', 'kdtree_nb_r75_median_dist', 'kdtree_nb_r75_mean_dist', 'kdtree_nb_r75_std_dist', 'kdtree_nb_r75_median_area', 'kdtree_nb_r75_mean_area', 'kdtree_nb_r75_std_area', 'kdtree_nb_r75_median_box_score', 'kdtree_nb_r75_mean_box_score', 'kdtree_nb_r75_std_box_score', 'kdtree_nb_r100_median_dist', 'kdtree_nb_r100_mean_dist', 'kdtree_nb_r100_std_dist', 'kdtree_nb_r100_median_area', 'kdtree_nb_r100_mean_area', 'kdtree_nb_r100_std_area', 'kdtree_nb_r100_median_box_score', 'kdtree_nb_r100_mean_box_score', 'kdtree_nb_r100_std_box_score', 'kdtree_nb_r150_median_dist', 'kdtree_nb_r150_mean_dist', 'kdtree_nb_r150_std_dist', 'kdtree_nb_r150_median_area', 'kdtree_nb_r150_mean_area', 'kdtree_nb_r150_std_area', 'kdtree_nb_r150_median_box_score', 'kdtree_nb_r150_mean_box_score', 'kdtree_nb_r150_std_box_score', 'kdtree_nb_r200_median_dist', 'kdtree_nb_r200_mean_dist', 'kdtree_nb_r200_std_dist', 'kdtree_nb_r200_median_area', 'kdtree_nb_r200_mean_area', 'kdtree_nb_r200_std_area', 'kdtree_nb_r200_median_box_score', 'kdtree_nb_r200_mean_box_score', 'kdtree_nb_r200_std_box_score', 'kdtree_nb_top2_median_dist', 'kdtree_nb_top2_mean_dist', 'kdtree_nb_top2_std_dist', 'kdtree_nb_top2_median_area', 'kdtree_nb_top2_mean_area', 'kdtree_nb_top2_std_area', 'kdtree_nb_top2_median_box_score', 'kdtree_nb_top2_mean_box_score', 'kdtree_nb_top2_std_box_score', 'kdtree_nb_top3_median_dist', 'kdtree_nb_top3_mean_dist', 'kdtree_nb_top3_std_dist', 'kdtree_nb_top3_median_area', 'kdtree_nb_top3_mean_area', 'kdtree_nb_top3_std_area', 'kdtree_nb_top3_median_box_score', 'kdtree_nb_top3_mean_box_score', 'kdtree_nb_top3_std_box_score', 'kdtree_nb_top5_median_dist', 'kdtree_nb_top5_mean_dist', 'kdtree_nb_top5_std_dist', 'kdtree_nb_top5_median_area', 'kdtree_nb_top5_mean_area', 'kdtree_nb_top5_std_area', 'kdtree_nb_top5_median_box_score', 'kdtree_nb_top5_mean_box_score', 'kdtree_nb_top5_std_box_score', 'kdtree_nb_top7_median_dist', 'kdtree_nb_top7_mean_dist', 'kdtree_nb_top7_std_dist', 'kdtree_nb_top7_median_area', 'kdtree_nb_top7_mean_area', 'kdtree_nb_top7_std_area', 'kdtree_nb_top7_median_box_score', 'kdtree_nb_top7_mean_box_score', 'kdtree_nb_top7_std_box_score', 'cell_type']\n",
    "y_col = 'iou'"
   ]
  },
  {
   "cell_type": "code",
   "execution_count": null,
   "metadata": {},
   "outputs": [],
   "source": []
  },
  {
   "cell_type": "code",
   "execution_count": 25,
   "metadata": {},
   "outputs": [
    {
     "data": {
      "text/plain": [
       "4"
      ]
     },
     "execution_count": 25,
     "metadata": {},
     "output_type": "execute_result"
    }
   ],
   "source": [
    "# detect cols with many nulls (> 30%)\n",
    "null_count = train_df[X_cols].isnull().mean().sort_values(ascending=False)\n",
    "cols_many_nulls = null_count[null_count > 0.3].index.tolist()\n",
    "len(cols_many_nulls)"
   ]
  },
  {
   "cell_type": "code",
   "execution_count": 26,
   "metadata": {
    "scrolled": true
   },
   "outputs": [],
   "source": [
    "# detect cols with many same values (>90%)\n",
    "max_counts = []\n",
    "\n",
    "for col in X_cols:\n",
    "    counts = train_df[col].value_counts()\n",
    "    if(len(counts) > 0):\n",
    "        max_count = counts.iloc[0]\n",
    "    max_counts.append(max_count / len(train_df))"
   ]
  },
  {
   "cell_type": "code",
   "execution_count": 27,
   "metadata": {},
   "outputs": [],
   "source": [
    "freq = pd.DataFrame({'feature':X_cols, 'max_freq':max_counts})"
   ]
  },
  {
   "cell_type": "code",
   "execution_count": 28,
   "metadata": {},
   "outputs": [
    {
     "data": {
      "text/plain": [
       "5"
      ]
     },
     "execution_count": 28,
     "metadata": {},
     "output_type": "execute_result"
    }
   ],
   "source": [
    "cols_same_values = freq[freq.max_freq > 0.9].feature.tolist()\n",
    "len(cols_same_values)"
   ]
  },
  {
   "cell_type": "code",
   "execution_count": 29,
   "metadata": {},
   "outputs": [],
   "source": [
    "X_cols2 = [col for col in X_cols if col not in cols_many_nulls and col not in cols_same_values]"
   ]
  },
  {
   "cell_type": "code",
   "execution_count": 30,
   "metadata": {},
   "outputs": [
    {
     "data": {
      "text/plain": [
       "130"
      ]
     },
     "execution_count": 30,
     "metadata": {},
     "output_type": "execute_result"
    }
   ],
   "source": [
    "len(X_cols2)"
   ]
  },
  {
   "cell_type": "code",
   "execution_count": null,
   "metadata": {},
   "outputs": [],
   "source": []
  },
  {
   "cell_type": "code",
   "execution_count": null,
   "metadata": {},
   "outputs": [],
   "source": []
  },
  {
   "cell_type": "code",
   "execution_count": null,
   "metadata": {},
   "outputs": [],
   "source": []
  },
  {
   "cell_type": "code",
   "execution_count": null,
   "metadata": {},
   "outputs": [],
   "source": []
  },
  {
   "cell_type": "code",
   "execution_count": 50,
   "metadata": {},
   "outputs": [],
   "source": [
    "from sklearn.ensemble import VotingRegressor\n",
    "from sklearn.linear_model import LinearRegression\n",
    "from sklearn.neighbors import KNeighborsRegressor\n",
    "from xgboost import XGBRegressor"
   ]
  },
  {
   "cell_type": "code",
   "execution_count": 76,
   "metadata": {},
   "outputs": [],
   "source": [
    "cat = CatBoostRegressor(n_estimators=700, max_depth=2, \n",
    "                        learning_rate=0.02, reg_lambda=1,\n",
    "                        loss_function='RMSE',\n",
    "                         verbose=False, \n",
    "                        random_state=67)\n",
    "\n",
    "# cat = CatBoostRegressor(n_estimators=600, max_depth=2, \n",
    "#                         learning_rate=0.03, reg_lambda=1,\n",
    "#                         loss_function='RMSE',\n",
    "#                          verbose=False, \n",
    "#                         random_state=67)\n",
    "\n",
    "# {'learning_rate': 0.02, 'max_depth': 2.0, 'n_estimators': 700.0, 'reg_lambda': 1.0, 'thresh': 0.30000000000000004}\n",
    "\n",
    "model = cat"
   ]
  },
  {
   "cell_type": "code",
   "execution_count": 77,
   "metadata": {
    "scrolled": true
   },
   "outputs": [],
   "source": [
    "X_train = train_df[X_cols2].fillna(-1)\n",
    "y_train = train_df['iou']\n",
    "\n",
    "X_valid = valid_df[X_cols2].fillna(-1)\n",
    "y_valid = valid_df['iou']"
   ]
  },
  {
   "cell_type": "code",
   "execution_count": 78,
   "metadata": {},
   "outputs": [],
   "source": [
    "# X_valid.isnull().sum().sort_values(ascending=False)"
   ]
  },
  {
   "cell_type": "code",
   "execution_count": 79,
   "metadata": {
    "scrolled": true
   },
   "outputs": [],
   "source": [
    "# cross_val_score(lgb, X, y, cv=3, scoring='neg_mean_absolute_error')"
   ]
  },
  {
   "cell_type": "code",
   "execution_count": 80,
   "metadata": {
    "scrolled": true
   },
   "outputs": [],
   "source": [
    "model.fit(X_train,y_train)\n",
    "y_pred_train = model.predict(X_train)\n",
    "y_pred_valid = model.predict(X_valid)"
   ]
  },
  {
   "cell_type": "code",
   "execution_count": 81,
   "metadata": {
    "scrolled": true
   },
   "outputs": [
    {
     "data": {
      "text/plain": [
       "<matplotlib.legend.Legend at 0x7f47fc0b9e80>"
      ]
     },
     "execution_count": 81,
     "metadata": {},
     "output_type": "execute_result"
    },
    {
     "data": {
      "image/png": "[encoded data removed]",
      "text/plain": [
       "<Figure size 720x1080 with 1 Axes>"
      ]
     },
     "metadata": {
      "needs_background": "light"
     },
     "output_type": "display_data"
    }
   ],
   "source": [
    "ft_imp = pd.DataFrame({'features':X_cols2, 'importance':model.feature_importances_})\n",
    "plt.figure(figsize=(10,15))\n",
    "\n",
    "TOP = 30\n",
    "ft_imp = ft_imp.sort_values('importance', ascending=False)\n",
    "plt.barh(ft_imp['features'].iloc[:TOP], ft_imp['importance'].iloc[:TOP], label=f'best {TOP} feautures')\n",
    "ft_imp = ft_imp.sort_values('importance', ascending=True)\n",
    "plt.barh(ft_imp['features'].iloc[:TOP], ft_imp['importance'].iloc[:TOP], label=f'worst {TOP} features')\n",
    "\n",
    "plt.legend()"
   ]
  },
  {
   "cell_type": "code",
   "execution_count": 82,
   "metadata": {},
   "outputs": [
    {
     "data": {
      "text/plain": [
       "0.13651988321045178"
      ]
     },
     "execution_count": 82,
     "metadata": {},
     "output_type": "execute_result"
    }
   ],
   "source": [
    "mean_absolute_error(y_pred_train, y_train)"
   ]
  },
  {
   "cell_type": "code",
   "execution_count": 83,
   "metadata": {},
   "outputs": [
    {
     "data": {
      "text/plain": [
       "0.16070934591304514"
      ]
     },
     "execution_count": 83,
     "metadata": {},
     "output_type": "execute_result"
    }
   ],
   "source": [
    "mean_absolute_error(y_pred_valid, y_valid)"
   ]
  },
  {
   "cell_type": "code",
   "execution_count": null,
   "metadata": {},
   "outputs": [],
   "source": []
  },
  {
   "cell_type": "code",
   "execution_count": 84,
   "metadata": {
    "scrolled": true
   },
   "outputs": [],
   "source": [
    "train_df['pred_iou'] = y_pred_train\n",
    "valid_df['pred_iou'] = y_pred_valid"
   ]
  },
  {
   "cell_type": "code",
   "execution_count": 85,
   "metadata": {
    "scrolled": true
   },
   "outputs": [],
   "source": [
    "train_df['FP'] = train_df['iou'] < 0.5\n",
    "valid_df['FP'] = valid_df['iou'] < 0.5"
   ]
  },
  {
   "cell_type": "code",
   "execution_count": 86,
   "metadata": {
    "scrolled": true
   },
   "outputs": [
    {
     "data": {
      "text/plain": [
       "False    4448\n",
       "True     1266\n",
       "Name: FP, dtype: int64"
      ]
     },
     "execution_count": 86,
     "metadata": {},
     "output_type": "execute_result"
    }
   ],
   "source": [
    "train_df['FP'].value_counts()"
   ]
  },
  {
   "cell_type": "code",
   "execution_count": 87,
   "metadata": {},
   "outputs": [
    {
     "data": {
      "text/plain": [
       "False    5214\n",
       "True     1444\n",
       "Name: FP, dtype: int64"
      ]
     },
     "execution_count": 87,
     "metadata": {},
     "output_type": "execute_result"
    }
   ],
   "source": [
    "valid_df['FP'].value_counts()"
   ]
  },
  {
   "cell_type": "code",
   "execution_count": null,
   "metadata": {},
   "outputs": [],
   "source": []
  },
  {
   "cell_type": "code",
   "execution_count": 88,
   "metadata": {
    "scrolled": true
   },
   "outputs": [],
   "source": [
    "train_df['pred_FP'] = train_df['pred_iou'] < 0.3\n",
    "valid_df['pred_FP'] = valid_df['pred_iou'] < 0.3"
   ]
  },
  {
   "cell_type": "code",
   "execution_count": 89,
   "metadata": {},
   "outputs": [
    {
     "data": {
      "text/plain": [
       "0.9259259259259259"
      ]
     },
     "execution_count": 89,
     "metadata": {},
     "output_type": "execute_result"
    }
   ],
   "source": [
    "precision_score(train_df['FP'], train_df['pred_FP'])"
   ]
  },
  {
   "cell_type": "code",
   "execution_count": 90,
   "metadata": {},
   "outputs": [
    {
     "data": {
      "text/plain": [
       "0.8444444444444444"
      ]
     },
     "execution_count": 90,
     "metadata": {},
     "output_type": "execute_result"
    }
   ],
   "source": [
    "precision_score(valid_df['FP'], valid_df['pred_FP'])"
   ]
  },
  {
   "cell_type": "code",
   "execution_count": 91,
   "metadata": {
    "scrolled": true
   },
   "outputs": [],
   "source": [
    "# roc_auc_score(train_df['iou']>=0.5, train_df['pred_iou'])"
   ]
  },
  {
   "cell_type": "code",
   "execution_count": 92,
   "metadata": {},
   "outputs": [
    {
     "data": {
      "text/plain": [
       "(54, 45)"
      ]
     },
     "execution_count": 92,
     "metadata": {},
     "output_type": "execute_result"
    }
   ],
   "source": [
    "train_df['pred_FP'].sum(), valid_df['pred_FP'].sum()"
   ]
  },
  {
   "cell_type": "code",
   "execution_count": 93,
   "metadata": {
    "scrolled": false
   },
   "outputs": [
    {
     "data": {
      "text/plain": [
       "array(['0f08d640930b', '1cc3b45e0399', '24a07145b24d', '29efe1120825',\n",
       "       '2c7b7d0a1573', '3ac59a41a300', '4c98ec6b42aa', '576c680c66c7',\n",
       "       '58b543a236c8', '5d066f4c3eef', '68780361eded', '7ca93f81e669',\n",
       "       '82c638427f2f', '8a754409504b', '8bcc2ef2e81e', '98fd9ed43654',\n",
       "       'a28407ce196e', 'a55cec7ee7a1', 'ae509c50607a', 'b861811eaff6',\n",
       "       'bfb878cd992e', 'c3b32460bcba', 'de504eaa5349', 'f2e0ce316b7e',\n",
       "       'fac5fa0dd448'], dtype=object)"
      ]
     },
     "execution_count": 93,
     "metadata": {},
     "output_type": "execute_result"
    }
   ],
   "source": [
    "valid_df[valid_df.pred_FP == 1].image_id.unique()"
   ]
  },
  {
   "cell_type": "code",
   "execution_count": 69,
   "metadata": {
    "scrolled": false
   },
   "outputs": [
    {
     "name": "stdout",
     "output_type": "stream",
     "text": [
      "0.2023048637815977 152.8 321.2 394.2\n",
      "0.5 {'AP': 0.5238805970149254, 'TP': 351, 'FP': 123, 'FN': 196}\n",
      "0.55 {'AP': 0.4544159544159544, 'TP': 319, 'FP': 155, 'FN': 228}\n",
      "0.6 {'AP': 0.3649732620320856, 'TP': 273, 'FP': 201, 'FN': 274}\n",
      "0.65 {'AP': 0.2714819427148194, 'TP': 218, 'FP': 256, 'FN': 329}\n",
      "0.7 {'AP': 0.1927570093457944, 'TP': 165, 'FP': 309, 'FN': 382}\n",
      "0.75 {'AP': 0.11706783369803063, 'TP': 107, 'FP': 367, 'FN': 440}\n",
      "0.8 {'AP': 0.07247899159663866, 'TP': 69, 'FP': 405, 'FN': 478}\n",
      "0.85 {'AP': 0.023046092184368736, 'TP': 23, 'FP': 451, 'FN': 524}\n",
      "0.9 {'AP': 0.0029469548133595285, 'TP': 3, 'FP': 471, 'FN': 544}\n",
      "0.95 {'AP': 0.0, 'TP': 0, 'FP': 474, 'FN': 547}\n"
     ]
    }
   ],
   "source": [
    "image_id = '5d066f4c3eef'\n",
    "for d in valid_ds2:\n",
    "    if(d['image_id'] == image_id):\n",
    "        break\n",
    "\n",
    "PKL_FOLDER = get_pkl_folder(d)\n",
    "path = f'{PKL_FOLDER}/{d[\"image_id\"]}.pkl'\n",
    "\n",
    "with open(path, 'rb') as f:\n",
    "    outputs = pickle.load(f)\n",
    "    outputs['instances'] = outputs['instances'].to('cpu')\n",
    "    \n",
    "outputs['instances'].pred_masks = outputs['instances'].pred_masks >= 0.5\n",
    "AP, TP, FP, FN, log = calculate_AP(outputs, d['annotations'])\n",
    "print(AP, TP, FP, FN)\n",
    "print_log(log)"
   ]
  },
  {
   "cell_type": "code",
   "execution_count": 70,
   "metadata": {},
   "outputs": [],
   "source": [
    "TP_list = valid_df[(valid_df['image_id'] == image_id) & (valid_df['pred_FP']==0)].instance_num.tolist()"
   ]
  },
  {
   "cell_type": "code",
   "execution_count": 71,
   "metadata": {},
   "outputs": [],
   "source": [
    "outputs['instances'] = outputs['instances'][TP_list]"
   ]
  },
  {
   "cell_type": "code",
   "execution_count": 72,
   "metadata": {},
   "outputs": [
    {
     "name": "stdout",
     "output_type": "stream",
     "text": [
      "0.20257629456789733 152.8 320.2 394.2\n",
      "0.5 {'AP': 0.5246636771300448, 'TP': 351, 'FP': 122, 'FN': 196}\n",
      "0.55 {'AP': 0.4550641940085592, 'TP': 319, 'FP': 154, 'FN': 228}\n",
      "0.6 {'AP': 0.3654618473895582, 'TP': 273, 'FP': 200, 'FN': 274}\n",
      "0.65 {'AP': 0.2718204488778055, 'TP': 218, 'FP': 255, 'FN': 329}\n",
      "0.7 {'AP': 0.19298245614035087, 'TP': 165, 'FP': 308, 'FN': 382}\n",
      "0.75 {'AP': 0.1171960569550931, 'TP': 107, 'FP': 366, 'FN': 440}\n",
      "0.8 {'AP': 0.07255520504731862, 'TP': 69, 'FP': 404, 'FN': 478}\n",
      "0.85 {'AP': 0.023069207622868605, 'TP': 23, 'FP': 450, 'FN': 524}\n",
      "0.9 {'AP': 0.0029498525073746312, 'TP': 3, 'FP': 470, 'FN': 544}\n",
      "0.95 {'AP': 0.0, 'TP': 0, 'FP': 473, 'FN': 547}\n"
     ]
    }
   ],
   "source": [
    "AP, TP, FP, FN, log = calculate_AP(outputs, d['annotations'])\n",
    "print(AP, TP, FP, FN)\n",
    "print_log(log)"
   ]
  },
  {
   "cell_type": "code",
   "execution_count": 106,
   "metadata": {},
   "outputs": [
    {
     "ename": "NameError",
     "evalue": "name 'aaaaaaaaa' is not defined",
     "output_type": "error",
     "traceback": [
      "\u001b[0;31m---------------------------------------------------------------------------\u001b[0m",
      "\u001b[0;31mNameError\u001b[0m                                 Traceback (most recent call last)",
      "\u001b[0;32m<ipython-input-106-b7acc2e0e1ac>\u001b[0m in \u001b[0;36m<module>\u001b[0;34m\u001b[0m\n\u001b[0;32m----> 1\u001b[0;31m \u001b[0maaaaaaaaa\u001b[0m\u001b[0;34m\u001b[0m\u001b[0;34m\u001b[0m\u001b[0m\n\u001b[0m",
      "\u001b[0;31mNameError\u001b[0m: name 'aaaaaaaaa' is not defined"
     ]
    }
   ],
   "source": [
    "aaaaaaaaa"
   ]
  },
  {
   "cell_type": "code",
   "execution_count": 94,
   "metadata": {},
   "outputs": [],
   "source": [
    "os.makedirs('stage2_model', exist_ok=True)"
   ]
  },
  {
   "cell_type": "code",
   "execution_count": 95,
   "metadata": {},
   "outputs": [
    {
     "data": {
      "text/plain": [
       "'5_ens_m1022_m1018'"
      ]
     },
     "execution_count": 95,
     "metadata": {},
     "output_type": "execute_result"
    }
   ],
   "source": [
    "VER"
   ]
  },
  {
   "cell_type": "code",
   "execution_count": 100,
   "metadata": {},
   "outputs": [
    {
     "data": {
      "text/plain": [
       "<catboost.core.CatBoostRegressor at 0x7f47dc03c080>"
      ]
     },
     "execution_count": 100,
     "metadata": {},
     "output_type": "execute_result"
    }
   ],
   "source": [
    "all_df = pd.concat([train_df, valid_df], axis=0)\n",
    "model.fit(all_df[X_cols2].fillna(-1), all_df[y_col])"
   ]
  },
  {
   "cell_type": "code",
   "execution_count": 101,
   "metadata": {},
   "outputs": [
    {
     "data": {
      "text/plain": [
       "0.14802895957058484"
      ]
     },
     "execution_count": 101,
     "metadata": {},
     "output_type": "execute_result"
    }
   ],
   "source": [
    "mean_absolute_error( all_df[y_col], model.predict(all_df[X_cols2].fillna(-1)))"
   ]
  },
  {
   "cell_type": "code",
   "execution_count": 102,
   "metadata": {},
   "outputs": [],
   "source": [
    "with open(os.path.join('stage2_model/', f'model_ver_{VER}.pkl'), 'wb') as f:\n",
    "    pickle.dump(model, f)"
   ]
  },
  {
   "cell_type": "code",
   "execution_count": 99,
   "metadata": {},
   "outputs": [],
   "source": [
    "pd.DataFrame(X_cols2, columns=['features']).to_csv(os.path.join('stage2_model/', f'features_ver_{VER}.csv'), index=False)"
   ]
  },
  {
   "cell_type": "code",
   "execution_count": null,
   "metadata": {},
   "outputs": [],
   "source": [
    "aaaaaaaaaaaaaaa"
   ]
  },
  {
   "cell_type": "code",
   "execution_count": null,
   "metadata": {},
   "outputs": [],
   "source": [
    "# Tune thresh"
   ]
  },
  {
   "cell_type": "code",
   "execution_count": 74,
   "metadata": {},
   "outputs": [],
   "source": [
    "MASK_MIN_AREA = [70, 120, 50]\n",
    "\n",
    "import torch\n",
    "def filter_masks_by_area(mask_min_area, outputs):\n",
    "    pred_class = torch.mode(outputs['instances'].pred_classes)[0]\n",
    "    area_min = mask_min_area[pred_class]\n",
    "    take = outputs['instances'].pred_masks.sum(axis=(1,2)) >= area_min\n",
    "#     print(outputs['instances'].pred_masks.sum(axis=(1,2)))\n",
    "    outputs['instances'] = outputs['instances'][take]\n",
    "    return outputs"
   ]
  },
  {
   "cell_type": "code",
   "execution_count": 70,
   "metadata": {
    "scrolled": true
   },
   "outputs": [
    {
     "data": {
      "application/vnd.jupyter.widget-view+json": {
       "model_id": "8055305eacda48a48781dfbdbbe61a84",
       "version_major": 2,
       "version_minor": 0
      },
      "text/plain": [
       "  0%|          | 0/63 [00:00<?, ?it/s]"
      ]
     },
     "metadata": {},
     "output_type": "display_data"
    }
   ],
   "source": [
    "base_list_APs = []\n",
    "base_image_ids = []\n",
    "base_cell_types = []\n",
    "\n",
    "for d in tqdm(valid_ds2, total=len(valid_ds2)):\n",
    "    PKL_FOLDER = get_pkl_folder(d)\n",
    "    path = f'{PKL_FOLDER}/{d[\"image_id\"]}.pkl'\n",
    "\n",
    "    with open(path, 'rb') as f:\n",
    "        outputs = pickle.load(f)\n",
    "        outputs['instances'] = outputs['instances'].to('cpu')\n",
    "    \n",
    "    outputs = filter_masks_by_area(MASK_MIN_AREA, outputs)\n",
    "    \n",
    "    outputs['instances'].pred_masks = outputs['instances'].pred_masks >= 0.5\n",
    "    \n",
    "    outputs = filter_masks_by_area(MASK_MIN_AREA, outputs)\n",
    "    \n",
    "    AP, TP, FP, FN, log = calculate_AP(outputs, d['annotations'])\n",
    "    base_list_APs.append(AP)\n",
    "    base_image_ids.append(d['image_id'])\n",
    "    base_cell_types.append(d['annotations'][0]['category_id'])\n",
    "    \n",
    "base_result_df = pd.DataFrame({'image_id':base_image_ids, 'cell_type':base_cell_types, 'AP':base_list_APs})"
   ]
  },
  {
   "cell_type": "code",
   "execution_count": 71,
   "metadata": {},
   "outputs": [],
   "source": [
    "# np.mean(list_APs)  # baseline score: 0.3331"
   ]
  },
  {
   "cell_type": "code",
   "execution_count": 72,
   "metadata": {},
   "outputs": [
    {
     "data": {
      "text/plain": [
       "0.3361197482630999"
      ]
     },
     "execution_count": 72,
     "metadata": {},
     "output_type": "execute_result"
    }
   ],
   "source": [
    "base_result_df.AP.mean()"
   ]
  },
  {
   "cell_type": "code",
   "execution_count": 73,
   "metadata": {},
   "outputs": [
    {
     "data": {
      "text/plain": [
       "cell_type\n",
       "0    0.067692\n",
       "1    0.055405\n",
       "2    0.213023\n",
       "Name: AP, dtype: float64"
      ]
     },
     "execution_count": 73,
     "metadata": {},
     "output_type": "execute_result"
    }
   ],
   "source": [
    "base_result_df.groupby('cell_type').AP.sum() / len(base_result_df)"
   ]
  },
  {
   "cell_type": "code",
   "execution_count": null,
   "metadata": {},
   "outputs": [],
   "source": [
    "0.3361197482630999\n",
    "\n",
    "cell_type\n",
    "0    0.067692\n",
    "1    0.055405\n",
    "2    0.213023\n"
   ]
  },
  {
   "cell_type": "code",
   "execution_count": null,
   "metadata": {
    "scrolled": false
   },
   "outputs": [],
   "source": []
  },
  {
   "cell_type": "code",
   "execution_count": null,
   "metadata": {},
   "outputs": [],
   "source": []
  },
  {
   "cell_type": "code",
   "execution_count": 55,
   "metadata": {
    "scrolled": true
   },
   "outputs": [],
   "source": [
    "sub_valid_df = valid_df\n",
    "\n",
    "for thresh in [0.1,0.2,0.3,0.4,0.5]:\n",
    "    sub_valid_df['pred_FP'] = sub_valid_df['pred_iou'] < thresh\n",
    "    print('=======================================================')\n",
    "    print('Thresh:', thresh, '. Number of predicted FPs:', sub_valid_df['pred_FP'].sum(), \n",
    "          '. Precision:', precision_score(sub_valid_df['FP'], sub_valid_df['pred_FP']))\n",
    "    \n",
    "    list_APs = []\n",
    "\n",
    "    for d in tqdm(valid_ds2, total=len(valid_ds2)):\n",
    "        if(d['image_id'] not in sub_valid_df['image_id'].tolist()):\n",
    "            continue\n",
    "        PKL_FOLDER = get_pkl_folder(d)\n",
    "        path = f'{PKL_FOLDER}/{d[\"image_id\"]}.pkl'\n",
    "        \n",
    "        image_id = d['image_id']\n",
    "        TP_list = sub_valid_df[(sub_valid_df['image_id'] == image_id) & (sub_valid_df['pred_FP']==0)].instance_num.tolist()\n",
    "\n",
    "        with open(path, 'rb') as f:\n",
    "            outputs = pickle.load(f)\n",
    "            outputs['instances'] = outputs['instances'].to('cpu')\n",
    "            outputs['instances'] = outputs['instances'][TP_list]\n",
    "            \n",
    "        outputs['instances'].pred_masks = outputs['instances'].pred_masks >= 0.5\n",
    "        \n",
    "        outputs = filter_masks_by_area(MASK_MIN_AREA, outputs)\n",
    "        \n",
    "        AP, TP, FP, FN, log = calculate_AP(outputs, d['annotations'])\n",
    "        list_APs.append(AP)\n",
    "        \n",
    "    print('AP:', np.mean(list_APs))"
   ]
  },
  {
   "cell_type": "code",
   "execution_count": null,
   "metadata": {},
   "outputs": [],
   "source": []
  },
  {
   "cell_type": "code",
   "execution_count": null,
   "metadata": {},
   "outputs": [],
   "source": []
  },
  {
   "cell_type": "code",
   "execution_count": 75,
   "metadata": {
    "scrolled": true
   },
   "outputs": [
    {
     "name": "stdout",
     "output_type": "stream",
     "text": [
      "  0%|          | 0/100 [00:00<?, ?trial/s, best loss=?]"
     ]
    },
    {
     "data": {
      "application/vnd.jupyter.widget-view+json": {
       "model_id": "7293a76df8b54698ac9c14b3e3485b6e",
       "version_major": 2,
       "version_minor": 0
      },
      "text/plain": [
       "  0%|          | 0/63 [00:00<?, ?it/s]"
      ]
     },
     "metadata": {},
     "output_type": "display_data"
    },
    {
     "name": "stdout",
     "output_type": "stream",
     "text": [
      "Params:                                                \n",
      "{'learning_rate': 0.09, 'max_depth': 4.0, 'n_estimators': 500.0, 'reg_lambda': 1.0, 'thresh': 0.4}\n",
      ". AP:                                                  \n",
      "0.33297720447181756                                    \n",
      "  1%|          | 1/100 [06:06<10:04:57, 366.65s/trial, best loss: -0.33297720447181756]"
     ]
    },
    {
     "data": {
      "application/vnd.jupyter.widget-view+json": {
       "model_id": "f7f6893e51034529be369a891d14542f",
       "version_major": 2,
       "version_minor": 0
      },
      "text/plain": [
       "  0%|          | 0/63 [00:00<?, ?it/s]"
      ]
     },
     "metadata": {},
     "output_type": "display_data"
    },
    {
     "name": "stdout",
     "output_type": "stream",
     "text": [
      "Params:                                                                                \n",
      "{'learning_rate': 0.02, 'max_depth': 2.0, 'n_estimators': 900.0, 'reg_lambda': 1.0, 'thresh': 0.4}\n",
      ". AP:                                                                                  \n",
      "0.334369384128605                                                                      \n",
      "  2%|▏         | 2/100 [07:29<5:26:24, 199.84s/trial, best loss: -0.334369384128605]   "
     ]
    },
    {
     "data": {
      "application/vnd.jupyter.widget-view+json": {
       "model_id": "8b917199580f48358114ad12541c4014",
       "version_major": 2,
       "version_minor": 0
      },
      "text/plain": [
       "  0%|          | 0/63 [00:00<?, ?it/s]"
      ]
     },
     "metadata": {},
     "output_type": "display_data"
    },
    {
     "name": "stdout",
     "output_type": "stream",
     "text": [
      "Params:                                                                             \n",
      "{'learning_rate': 0.09, 'max_depth': 3.0, 'n_estimators': 900.0, 'reg_lambda': 1.0, 'thresh': 0.5}\n",
      ". AP:                                                                               \n",
      "0.32689633473074503                                                                 \n",
      "  3%|▎         | 3/100 [08:43<3:49:56, 142.23s/trial, best loss: -0.334369384128605]"
     ]
    },
    {
     "data": {
      "application/vnd.jupyter.widget-view+json": {
       "model_id": "95570427b5eb426e865345eb1c2d1e38",
       "version_major": 2,
       "version_minor": 0
      },
      "text/plain": [
       "  0%|          | 0/63 [00:00<?, ?it/s]"
      ]
     },
     "metadata": {},
     "output_type": "display_data"
    },
    {
     "name": "stdout",
     "output_type": "stream",
     "text": [
      "Params:                                                                             \n",
      "{'learning_rate': 0.04, 'max_depth': 3.0, 'n_estimators': 300.0, 'reg_lambda': 0.5, 'thresh': 0.2}\n",
      ". AP:                                                                               \n",
      "0.33606050833165235                                                                 \n",
      "  4%|▍         | 4/100 [10:14<3:15:15, 122.03s/trial, best loss: -0.33606050833165235]"
     ]
    },
    {
     "data": {
      "application/vnd.jupyter.widget-view+json": {
       "model_id": "5b27706468f147d4a9549e4cc9ea65ef",
       "version_major": 2,
       "version_minor": 0
      },
      "text/plain": [
       "  0%|          | 0/63 [00:00<?, ?it/s]"
      ]
     },
     "metadata": {},
     "output_type": "display_data"
    },
    {
     "name": "stdout",
     "output_type": "stream",
     "text": [
      "Params:                                                                               \n",
      "{'learning_rate': 0.02, 'max_depth': 2.0, 'n_estimators': 600.0, 'reg_lambda': 0.5, 'thresh': 0.1}\n",
      ". AP:                                                                                 \n",
      "0.33610914583886586                                                                   \n",
      "  5%|▌         | 5/100 [11:52<2:59:14, 113.21s/trial, best loss: -0.33610914583886586]"
     ]
    },
    {
     "data": {
      "application/vnd.jupyter.widget-view+json": {
       "model_id": "5ae0eb0e5627468c93f93242d10d0c91",
       "version_major": 2,
       "version_minor": 0
      },
      "text/plain": [
       "  0%|          | 0/63 [00:00<?, ?it/s]"
      ]
     },
     "metadata": {},
     "output_type": "display_data"
    },
    {
     "name": "stdout",
     "output_type": "stream",
     "text": [
      "Params:                                                                               \n",
      "{'learning_rate': 0.07, 'max_depth': 2.0, 'n_estimators': 800.0, 'reg_lambda': 0.5, 'thresh': 0.4}\n",
      ". AP:                                                                                 \n",
      "0.3328299542200456                                                                    \n",
      "  6%|▌         | 6/100 [13:29<2:48:53, 107.81s/trial, best loss: -0.33610914583886586]"
     ]
    },
    {
     "data": {
      "application/vnd.jupyter.widget-view+json": {
       "model_id": "6a2602bd9ed64014ae1ce6c8bd051a76",
       "version_major": 2,
       "version_minor": 0
      },
      "text/plain": [
       "  0%|          | 0/63 [00:00<?, ?it/s]"
      ]
     },
     "metadata": {},
     "output_type": "display_data"
    },
    {
     "name": "stdout",
     "output_type": "stream",
     "text": [
      "Params:                                                                               \n",
      "{'learning_rate': 0.02, 'max_depth': 4.0, 'n_estimators': 600.0, 'reg_lambda': 2.0, 'thresh': 0.4}\n",
      ". AP:                                                                                 \n",
      "0.3348988078053257                                                                    \n",
      "  7%|▋         | 7/100 [15:11<2:44:15, 105.97s/trial, best loss: -0.33610914583886586]"
     ]
    },
    {
     "data": {
      "application/vnd.jupyter.widget-view+json": {
       "model_id": "c96f7b6716cd4b4580766e0ddcc88e51",
       "version_major": 2,
       "version_minor": 0
      },
      "text/plain": [
       "  0%|          | 0/63 [00:00<?, ?it/s]"
      ]
     },
     "metadata": {},
     "output_type": "display_data"
    },
    {
     "name": "stdout",
     "output_type": "stream",
     "text": [
      "Params:                                                                               \n",
      "{'learning_rate': 0.06, 'max_depth': 2.0, 'n_estimators': 300.0, 'reg_lambda': 0.5, 'thresh': 0.4}\n",
      ". AP:                                                                                 \n",
      "0.33535157539335003                                                                   \n",
      "  8%|▊         | 8/100 [17:04<2:45:48, 108.14s/trial, best loss: -0.33610914583886586]"
     ]
    },
    {
     "data": {
      "application/vnd.jupyter.widget-view+json": {
       "model_id": "c0d14da066e6431faeca511d718cebe9",
       "version_major": 2,
       "version_minor": 0
      },
      "text/plain": [
       "  0%|          | 0/63 [00:00<?, ?it/s]"
      ]
     },
     "metadata": {},
     "output_type": "display_data"
    },
    {
     "name": "stdout",
     "output_type": "stream",
     "text": [
      "Params:                                                                               \n",
      "{'learning_rate': 0.02, 'max_depth': 2.0, 'n_estimators': 700.0, 'reg_lambda': 1.0, 'thresh': 0.30000000000000004}\n",
      ". AP:                                                                                 \n",
      "0.3369210528947711                                                                    \n",
      "  9%|▉         | 9/100 [19:06<2:50:38, 112.51s/trial, best loss: -0.3369210528947711] "
     ]
    },
    {
     "data": {
      "application/vnd.jupyter.widget-view+json": {
       "model_id": "30ffcfb88e3247ccbeff83ce85121b42",
       "version_major": 2,
       "version_minor": 0
      },
      "text/plain": [
       "  0%|          | 0/63 [00:00<?, ?it/s]"
      ]
     },
     "metadata": {},
     "output_type": "display_data"
    },
    {
     "name": "stdout",
     "output_type": "stream",
     "text": [
      "Params:                                                                              \n",
      "{'learning_rate': 0.07, 'max_depth': 2.0, 'n_estimators': 800.0, 'reg_lambda': 1.5, 'thresh': 0.4}\n",
      ". AP:                                                                                \n",
      "0.3352534148068643                                                                   \n",
      " 10%|█         | 10/100 [21:05<2:51:59, 114.67s/trial, best loss: -0.3369210528947711]"
     ]
    },
    {
     "data": {
      "application/vnd.jupyter.widget-view+json": {
       "model_id": "a0419a77476f4b9fa15b92cfc8577a9e",
       "version_major": 2,
       "version_minor": 0
      },
      "text/plain": [
       "  0%|          | 0/63 [00:00<?, ?it/s]"
      ]
     },
     "metadata": {},
     "output_type": "display_data"
    },
    {
     "name": "stdout",
     "output_type": "stream",
     "text": [
      "Params:                                                                               \n",
      "{'learning_rate': 0.08, 'max_depth': 3.0, 'n_estimators': 400.0, 'reg_lambda': 1.5, 'thresh': 0.4}\n",
      ". AP:                                                                                 \n",
      "0.3348170255576406                                                                    \n",
      " 11%|█         | 11/100 [23:02<2:51:06, 115.36s/trial, best loss: -0.3369210528947711]"
     ]
    },
    {
     "data": {
      "application/vnd.jupyter.widget-view+json": {
       "model_id": "053d2d7e7d514e099a3dca6f28ba11c5",
       "version_major": 2,
       "version_minor": 0
      },
      "text/plain": [
       "  0%|          | 0/63 [00:00<?, ?it/s]"
      ]
     },
     "metadata": {},
     "output_type": "display_data"
    },
    {
     "name": "stdout",
     "output_type": "stream",
     "text": [
      "Params:                                                                               \n",
      "{'learning_rate': 0.08, 'max_depth': 2.0, 'n_estimators': 300.0, 'reg_lambda': 0.5, 'thresh': 0.2}\n",
      ". AP:                                                                                 \n",
      "0.3360823723972076                                                                    \n",
      " 12%|█▏        | 12/100 [25:05<2:52:15, 117.45s/trial, best loss: -0.3369210528947711]"
     ]
    },
    {
     "data": {
      "application/vnd.jupyter.widget-view+json": {
       "model_id": "d930983d8d334710acc8c48a43d96624",
       "version_major": 2,
       "version_minor": 0
      },
      "text/plain": [
       "  0%|          | 0/63 [00:00<?, ?it/s]"
      ]
     },
     "metadata": {},
     "output_type": "display_data"
    },
    {
     "name": "stdout",
     "output_type": "stream",
     "text": [
      "Params:                                                                               \n",
      "{'learning_rate': 0.02, 'max_depth': 2.0, 'n_estimators': 300.0, 'reg_lambda': 1.0, 'thresh': 0.2}\n",
      ". AP:                                                                                 \n",
      "0.33610914583886586                                                                   \n",
      " 13%|█▎        | 13/100 [27:19<2:57:46, 122.60s/trial, best loss: -0.3369210528947711]"
     ]
    },
    {
     "data": {
      "application/vnd.jupyter.widget-view+json": {
       "model_id": "e80d2846bb324047bed614e8db8f3d7e",
       "version_major": 2,
       "version_minor": 0
      },
      "text/plain": [
       "  0%|          | 0/63 [00:00<?, ?it/s]"
      ]
     },
     "metadata": {},
     "output_type": "display_data"
    },
    {
     "name": "stdout",
     "output_type": "stream",
     "text": [
      "Params:                                                                               \n",
      "{'learning_rate': 0.02, 'max_depth': 3.0, 'n_estimators': 500.0, 'reg_lambda': 2.0, 'thresh': 0.4}\n",
      ". AP:                                                                                 \n",
      "0.33460710876460664                                                                   \n",
      " 14%|█▍        | 14/100 [29:33<3:00:31, 125.95s/trial, best loss: -0.3369210528947711]"
     ]
    },
    {
     "data": {
      "application/vnd.jupyter.widget-view+json": {
       "model_id": "e368924961414608a96a820c8e9b4e07",
       "version_major": 2,
       "version_minor": 0
      },
      "text/plain": [
       "  0%|          | 0/63 [00:00<?, ?it/s]"
      ]
     },
     "metadata": {},
     "output_type": "display_data"
    },
    {
     "name": "stdout",
     "output_type": "stream",
     "text": [
      "Params:                                                                               \n",
      "{'learning_rate': 0.03, 'max_depth': 4.0, 'n_estimators': 200.0, 'reg_lambda': 2.0, 'thresh': 0.5}\n",
      ". AP:                                                                                 \n",
      "0.3339191793493077                                                                    \n",
      " 15%|█▌        | 15/100 [31:36<2:57:25, 125.25s/trial, best loss: -0.3369210528947711]"
     ]
    },
    {
     "data": {
      "application/vnd.jupyter.widget-view+json": {
       "model_id": "f20638d00aec4c098c9ee1d51d7bfe2d",
       "version_major": 2,
       "version_minor": 0
      },
      "text/plain": [
       "  0%|          | 0/63 [00:00<?, ?it/s]"
      ]
     },
     "metadata": {},
     "output_type": "display_data"
    },
    {
     "name": "stdout",
     "output_type": "stream",
     "text": [
      " 15%|█▌        | 15/100 [31:45<2:59:59, 127.06s/trial, best loss: -0.3369210528947711]\n"
     ]
    },
    {
     "ename": "KeyboardInterrupt",
     "evalue": "",
     "output_type": "error",
     "traceback": [
      "\u001b[0;31m---------------------------------------------------------------------------\u001b[0m",
      "\u001b[0;31mKeyboardInterrupt\u001b[0m                         Traceback (most recent call last)",
      "\u001b[0;32m<ipython-input-75-fefd56e7e110>\u001b[0m in \u001b[0;36m<module>\u001b[0;34m\u001b[0m\n\u001b[1;32m     68\u001b[0m \u001b[0;32mfrom\u001b[0m \u001b[0mhyperopt\u001b[0m \u001b[0;32mimport\u001b[0m \u001b[0mfmin\u001b[0m\u001b[0;34m,\u001b[0m \u001b[0mtpe\u001b[0m\u001b[0;34m\u001b[0m\u001b[0;34m\u001b[0m\u001b[0m\n\u001b[1;32m     69\u001b[0m best = fmin(objective, space, algo=tpe.suggest,\n\u001b[0;32m---> 70\u001b[0;31m             max_evals=100, rstate=np.random.RandomState(67))\n\u001b[0m",
      "\u001b[0;32m/usr/local/lib/python3.6/dist-packages/hyperopt/fmin.py\u001b[0m in \u001b[0;36mfmin\u001b[0;34m(fn, space, algo, max_evals, timeout, loss_threshold, trials, rstate, allow_trials_fmin, pass_expr_memo_ctrl, catch_eval_exceptions, verbose, return_argmin, points_to_evaluate, max_queue_len, show_progressbar, early_stop_fn, trials_save_file)\u001b[0m\n\u001b[1;32m    551\u001b[0m \u001b[0;34m\u001b[0m\u001b[0m\n\u001b[1;32m    552\u001b[0m     \u001b[0;31m# next line is where the fmin is actually executed\u001b[0m\u001b[0;34m\u001b[0m\u001b[0;34m\u001b[0m\u001b[0;34m\u001b[0m\u001b[0m\n\u001b[0;32m--> 553\u001b[0;31m     \u001b[0mrval\u001b[0m\u001b[0;34m.\u001b[0m\u001b[0mexhaust\u001b[0m\u001b[0;34m(\u001b[0m\u001b[0;34m)\u001b[0m\u001b[0;34m\u001b[0m\u001b[0;34m\u001b[0m\u001b[0m\n\u001b[0m\u001b[1;32m    554\u001b[0m \u001b[0;34m\u001b[0m\u001b[0m\n\u001b[1;32m    555\u001b[0m     \u001b[0;32mif\u001b[0m \u001b[0mreturn_argmin\u001b[0m\u001b[0;34m:\u001b[0m\u001b[0;34m\u001b[0m\u001b[0;34m\u001b[0m\u001b[0m\n",
      "\u001b[0;32m/usr/local/lib/python3.6/dist-packages/hyperopt/fmin.py\u001b[0m in \u001b[0;36mexhaust\u001b[0;34m(self)\u001b[0m\n\u001b[1;32m    354\u001b[0m     \u001b[0;32mdef\u001b[0m \u001b[0mexhaust\u001b[0m\u001b[0;34m(\u001b[0m\u001b[0mself\u001b[0m\u001b[0;34m)\u001b[0m\u001b[0;34m:\u001b[0m\u001b[0;34m\u001b[0m\u001b[0;34m\u001b[0m\u001b[0m\n\u001b[1;32m    355\u001b[0m         \u001b[0mn_done\u001b[0m \u001b[0;34m=\u001b[0m \u001b[0mlen\u001b[0m\u001b[0;34m(\u001b[0m\u001b[0mself\u001b[0m\u001b[0;34m.\u001b[0m\u001b[0mtrials\u001b[0m\u001b[0;34m)\u001b[0m\u001b[0;34m\u001b[0m\u001b[0;34m\u001b[0m\u001b[0m\n\u001b[0;32m--> 356\u001b[0;31m         \u001b[0mself\u001b[0m\u001b[0;34m.\u001b[0m\u001b[0mrun\u001b[0m\u001b[0;34m(\u001b[0m\u001b[0mself\u001b[0m\u001b[0;34m.\u001b[0m\u001b[0mmax_evals\u001b[0m \u001b[0;34m-\u001b[0m \u001b[0mn_done\u001b[0m\u001b[0;34m,\u001b[0m \u001b[0mblock_until_done\u001b[0m\u001b[0;34m=\u001b[0m\u001b[0mself\u001b[0m\u001b[0;34m.\u001b[0m\u001b[0masynchronous\u001b[0m\u001b[0;34m)\u001b[0m\u001b[0;34m\u001b[0m\u001b[0;34m\u001b[0m\u001b[0m\n\u001b[0m\u001b[1;32m    357\u001b[0m         \u001b[0mself\u001b[0m\u001b[0;34m.\u001b[0m\u001b[0mtrials\u001b[0m\u001b[0;34m.\u001b[0m\u001b[0mrefresh\u001b[0m\u001b[0;34m(\u001b[0m\u001b[0;34m)\u001b[0m\u001b[0;34m\u001b[0m\u001b[0;34m\u001b[0m\u001b[0m\n\u001b[1;32m    358\u001b[0m         \u001b[0;32mreturn\u001b[0m \u001b[0mself\u001b[0m\u001b[0;34m\u001b[0m\u001b[0;34m\u001b[0m\u001b[0m\n",
      "\u001b[0;32m/usr/local/lib/python3.6/dist-packages/hyperopt/fmin.py\u001b[0m in \u001b[0;36mrun\u001b[0;34m(self, N, block_until_done)\u001b[0m\n\u001b[1;32m    290\u001b[0m                 \u001b[0;32melse\u001b[0m\u001b[0;34m:\u001b[0m\u001b[0;34m\u001b[0m\u001b[0;34m\u001b[0m\u001b[0m\n\u001b[1;32m    291\u001b[0m                     \u001b[0;31m# -- loop over trials and do the jobs directly\u001b[0m\u001b[0;34m\u001b[0m\u001b[0;34m\u001b[0m\u001b[0;34m\u001b[0m\u001b[0m\n\u001b[0;32m--> 292\u001b[0;31m                     \u001b[0mself\u001b[0m\u001b[0;34m.\u001b[0m\u001b[0mserial_evaluate\u001b[0m\u001b[0;34m(\u001b[0m\u001b[0;34m)\u001b[0m\u001b[0;34m\u001b[0m\u001b[0;34m\u001b[0m\u001b[0m\n\u001b[0m\u001b[1;32m    293\u001b[0m \u001b[0;34m\u001b[0m\u001b[0m\n\u001b[1;32m    294\u001b[0m                 \u001b[0mself\u001b[0m\u001b[0;34m.\u001b[0m\u001b[0mtrials\u001b[0m\u001b[0;34m.\u001b[0m\u001b[0mrefresh\u001b[0m\u001b[0;34m(\u001b[0m\u001b[0;34m)\u001b[0m\u001b[0;34m\u001b[0m\u001b[0;34m\u001b[0m\u001b[0m\n",
      "\u001b[0;32m/usr/local/lib/python3.6/dist-packages/hyperopt/fmin.py\u001b[0m in \u001b[0;36mserial_evaluate\u001b[0;34m(self, N)\u001b[0m\n\u001b[1;32m    168\u001b[0m                 \u001b[0mctrl\u001b[0m \u001b[0;34m=\u001b[0m \u001b[0mbase\u001b[0m\u001b[0;34m.\u001b[0m\u001b[0mCtrl\u001b[0m\u001b[0;34m(\u001b[0m\u001b[0mself\u001b[0m\u001b[0;34m.\u001b[0m\u001b[0mtrials\u001b[0m\u001b[0;34m,\u001b[0m \u001b[0mcurrent_trial\u001b[0m\u001b[0;34m=\u001b[0m\u001b[0mtrial\u001b[0m\u001b[0;34m)\u001b[0m\u001b[0;34m\u001b[0m\u001b[0;34m\u001b[0m\u001b[0m\n\u001b[1;32m    169\u001b[0m                 \u001b[0;32mtry\u001b[0m\u001b[0;34m:\u001b[0m\u001b[0;34m\u001b[0m\u001b[0;34m\u001b[0m\u001b[0m\n\u001b[0;32m--> 170\u001b[0;31m                     \u001b[0mresult\u001b[0m \u001b[0;34m=\u001b[0m \u001b[0mself\u001b[0m\u001b[0;34m.\u001b[0m\u001b[0mdomain\u001b[0m\u001b[0;34m.\u001b[0m\u001b[0mevaluate\u001b[0m\u001b[0;34m(\u001b[0m\u001b[0mspec\u001b[0m\u001b[0;34m,\u001b[0m \u001b[0mctrl\u001b[0m\u001b[0;34m)\u001b[0m\u001b[0;34m\u001b[0m\u001b[0;34m\u001b[0m\u001b[0m\n\u001b[0m\u001b[1;32m    171\u001b[0m                 \u001b[0;32mexcept\u001b[0m \u001b[0mException\u001b[0m \u001b[0;32mas\u001b[0m \u001b[0me\u001b[0m\u001b[0;34m:\u001b[0m\u001b[0;34m\u001b[0m\u001b[0;34m\u001b[0m\u001b[0m\n\u001b[1;32m    172\u001b[0m                     \u001b[0mlogger\u001b[0m\u001b[0;34m.\u001b[0m\u001b[0merror\u001b[0m\u001b[0;34m(\u001b[0m\u001b[0;34m\"job exception: %s\"\u001b[0m \u001b[0;34m%\u001b[0m \u001b[0mstr\u001b[0m\u001b[0;34m(\u001b[0m\u001b[0me\u001b[0m\u001b[0;34m)\u001b[0m\u001b[0;34m)\u001b[0m\u001b[0;34m\u001b[0m\u001b[0;34m\u001b[0m\u001b[0m\n",
      "\u001b[0;32m/usr/local/lib/python3.6/dist-packages/hyperopt/base.py\u001b[0m in \u001b[0;36mevaluate\u001b[0;34m(self, config, ctrl, attach_attachments)\u001b[0m\n\u001b[1;32m    905\u001b[0m                 \u001b[0mprint_node_on_error\u001b[0m\u001b[0;34m=\u001b[0m\u001b[0mself\u001b[0m\u001b[0;34m.\u001b[0m\u001b[0mrec_eval_print_node_on_error\u001b[0m\u001b[0;34m,\u001b[0m\u001b[0;34m\u001b[0m\u001b[0;34m\u001b[0m\u001b[0m\n\u001b[1;32m    906\u001b[0m             )\n\u001b[0;32m--> 907\u001b[0;31m             \u001b[0mrval\u001b[0m \u001b[0;34m=\u001b[0m \u001b[0mself\u001b[0m\u001b[0;34m.\u001b[0m\u001b[0mfn\u001b[0m\u001b[0;34m(\u001b[0m\u001b[0mpyll_rval\u001b[0m\u001b[0;34m)\u001b[0m\u001b[0;34m\u001b[0m\u001b[0;34m\u001b[0m\u001b[0m\n\u001b[0m\u001b[1;32m    908\u001b[0m \u001b[0;34m\u001b[0m\u001b[0m\n\u001b[1;32m    909\u001b[0m         \u001b[0;32mif\u001b[0m \u001b[0misinstance\u001b[0m\u001b[0;34m(\u001b[0m\u001b[0mrval\u001b[0m\u001b[0;34m,\u001b[0m \u001b[0;34m(\u001b[0m\u001b[0mfloat\u001b[0m\u001b[0;34m,\u001b[0m \u001b[0mint\u001b[0m\u001b[0;34m,\u001b[0m \u001b[0mnp\u001b[0m\u001b[0;34m.\u001b[0m\u001b[0mnumber\u001b[0m\u001b[0;34m)\u001b[0m\u001b[0;34m)\u001b[0m\u001b[0;34m:\u001b[0m\u001b[0;34m\u001b[0m\u001b[0;34m\u001b[0m\u001b[0m\n",
      "\u001b[0;32m<ipython-input-75-fefd56e7e110>\u001b[0m in \u001b[0;36mobjective\u001b[0;34m(args)\u001b[0m\n\u001b[1;32m     45\u001b[0m             \u001b[0moutputs\u001b[0m \u001b[0;34m=\u001b[0m \u001b[0mfilter_masks_by_area\u001b[0m\u001b[0;34m(\u001b[0m\u001b[0mMASK_MIN_AREA\u001b[0m\u001b[0;34m,\u001b[0m \u001b[0moutputs\u001b[0m\u001b[0;34m)\u001b[0m\u001b[0;34m\u001b[0m\u001b[0;34m\u001b[0m\u001b[0m\n\u001b[1;32m     46\u001b[0m \u001b[0;34m\u001b[0m\u001b[0m\n\u001b[0;32m---> 47\u001b[0;31m             \u001b[0mAP\u001b[0m\u001b[0;34m,\u001b[0m \u001b[0mTP\u001b[0m\u001b[0;34m,\u001b[0m \u001b[0mFP\u001b[0m\u001b[0;34m,\u001b[0m \u001b[0mFN\u001b[0m\u001b[0;34m,\u001b[0m \u001b[0mlog\u001b[0m \u001b[0;34m=\u001b[0m \u001b[0mcalculate_AP\u001b[0m\u001b[0;34m(\u001b[0m\u001b[0moutputs\u001b[0m\u001b[0;34m,\u001b[0m \u001b[0md\u001b[0m\u001b[0;34m[\u001b[0m\u001b[0;34m'annotations'\u001b[0m\u001b[0;34m]\u001b[0m\u001b[0;34m)\u001b[0m\u001b[0;34m\u001b[0m\u001b[0;34m\u001b[0m\u001b[0m\n\u001b[0m\u001b[1;32m     48\u001b[0m \u001b[0;34m\u001b[0m\u001b[0m\n\u001b[1;32m     49\u001b[0m         \u001b[0;32mexcept\u001b[0m \u001b[0mException\u001b[0m \u001b[0;32mas\u001b[0m \u001b[0mex\u001b[0m\u001b[0;34m:\u001b[0m\u001b[0;34m\u001b[0m\u001b[0;34m\u001b[0m\u001b[0m\n",
      "\u001b[0;32m/tf/SartoriusCIS/utils/metric_by_outputs.py\u001b[0m in \u001b[0;36mcalculate_AP\u001b[0;34m(pred, targ, resolve_overlap)\u001b[0m\n\u001b[1;32m     22\u001b[0m         \u001b[0mused\u001b[0m \u001b[0;34m=\u001b[0m \u001b[0mnp\u001b[0m\u001b[0;34m.\u001b[0m\u001b[0mzeros\u001b[0m\u001b[0;34m(\u001b[0m\u001b[0mpred_masks\u001b[0m\u001b[0;34m[\u001b[0m\u001b[0;36m0\u001b[0m\u001b[0;34m]\u001b[0m\u001b[0;34m.\u001b[0m\u001b[0mshape\u001b[0m\u001b[0;34m,\u001b[0m \u001b[0mdtype\u001b[0m\u001b[0;34m=\u001b[0m\u001b[0mint\u001b[0m\u001b[0;34m)\u001b[0m\u001b[0;34m\u001b[0m\u001b[0;34m\u001b[0m\u001b[0m\n\u001b[1;32m     23\u001b[0m         \u001b[0;32mfor\u001b[0m \u001b[0mmask\u001b[0m \u001b[0;32min\u001b[0m \u001b[0mpred_masks\u001b[0m\u001b[0;34m:\u001b[0m\u001b[0;34m\u001b[0m\u001b[0;34m\u001b[0m\u001b[0m\n\u001b[0;32m---> 24\u001b[0;31m             \u001b[0mmask\u001b[0m \u001b[0;34m=\u001b[0m \u001b[0mmask\u001b[0m \u001b[0;34m*\u001b[0m \u001b[0;34m(\u001b[0m\u001b[0;36m1\u001b[0m\u001b[0;34m-\u001b[0m\u001b[0mused\u001b[0m\u001b[0;34m)\u001b[0m\u001b[0;34m\u001b[0m\u001b[0;34m\u001b[0m\u001b[0m\n\u001b[0m\u001b[1;32m     25\u001b[0m             \u001b[0mused\u001b[0m \u001b[0;34m+=\u001b[0m \u001b[0mmask\u001b[0m\u001b[0;34m\u001b[0m\u001b[0;34m\u001b[0m\u001b[0m\n\u001b[1;32m     26\u001b[0m             \u001b[0mres\u001b[0m\u001b[0;34m.\u001b[0m\u001b[0mappend\u001b[0m\u001b[0;34m(\u001b[0m\u001b[0mmask\u001b[0m\u001b[0;34m)\u001b[0m\u001b[0;34m\u001b[0m\u001b[0;34m\u001b[0m\u001b[0m\n",
      "\u001b[0;31mKeyboardInterrupt\u001b[0m: "
     ]
    }
   ],
   "source": [
    "import numpy as np\n",
    "from hyperopt import hp\n",
    "\n",
    "def objective(args):\n",
    "    n_estimators, max_depth, learning_rate, reg_lambda, thresh = args['n_estimators'], args['max_depth'], \\\n",
    "                                        args['learning_rate'], args['reg_lambda'], args['thresh']\n",
    "    \n",
    "    model = CatBoostRegressor(n_estimators=n_estimators, max_depth=max_depth, \n",
    "                        learning_rate=learning_rate, reg_lambda=reg_lambda,\n",
    "                        loss_function='RMSE',\n",
    "                         verbose=False, \n",
    "                        random_state=67,\n",
    "                             thread_count=4)\n",
    "    \n",
    "    model.fit(X_train,y_train)\n",
    "    y_pred_valid = model.predict(X_valid)\n",
    "    \n",
    "    sub_valid_df = valid_df\n",
    "    sub_valid_df['pred_iou'] = y_pred_valid\n",
    "    \n",
    "    sub_valid_df['pred_FP'] = sub_valid_df['pred_iou'] < thresh\n",
    "#     print('=======================================================')\n",
    "#     print('Thresh:', thresh, '. Number of predicted FPs:', sub_valid_df['pred_FP'].sum(), \n",
    "#           '. Precision:', precision_score(sub_valid_df['FP'], sub_valid_df['pred_FP']))\n",
    "    \n",
    "    list_APs = []\n",
    "    \n",
    "    for d in tqdm(valid_ds2, total=len(valid_ds2)):\n",
    "        if(d['image_id'] not in sub_valid_df['image_id'].tolist()):\n",
    "            continue\n",
    "        PKL_FOLDER = get_pkl_folder(d)\n",
    "        path = f'{PKL_FOLDER}/{d[\"image_id\"]}.pkl'\n",
    "        \n",
    "        image_id = d['image_id']\n",
    "        TP_list = sub_valid_df[(sub_valid_df['image_id'] == image_id) & (sub_valid_df['pred_FP']==0)].instance_num.tolist()\n",
    "\n",
    "        with open(path, 'rb') as f:\n",
    "            outputs = pickle.load(f)\n",
    "            outputs['instances'] = outputs['instances'].to('cpu')\n",
    "            outputs['instances'] = outputs['instances'][TP_list]\n",
    "            \n",
    "        outputs['instances'].pred_masks = outputs['instances'].pred_masks >= 0.5\n",
    "        \n",
    "        try:\n",
    "            outputs = filter_masks_by_area(MASK_MIN_AREA, outputs)\n",
    "\n",
    "            AP, TP, FP, FN, log = calculate_AP(outputs, d['annotations'])\n",
    "\n",
    "        except Exception as ex:\n",
    "            print(ex)\n",
    "            AP, TP, FP, FN, log = 0,0,0,0,''\n",
    "            \n",
    "        list_APs.append(AP)\n",
    "        \n",
    "    mAP = np.mean(list_APs)\n",
    "    print('Params:', args, '. AP:', mAP)\n",
    "    return -mAP\n",
    "\n",
    "space = {\n",
    "        'n_estimators': hp.quniform('n_estimators', 100, 1000, 100),\n",
    "        'max_depth': hp.quniform('max_depth', 2, 4, 1),\n",
    "        'learning_rate': hp.quniform('learning_rate', 0.01, 0.1, 0.01),\n",
    "        'reg_lambda': hp.quniform('reg_lambda', 0.5, 2, 0.5),\n",
    "        'thresh': hp.quniform('div5', 0.1, 0.5, 0.1)\n",
    "}\n",
    "\n",
    "# minimize the objective over the space\n",
    "from hyperopt import fmin, tpe\n",
    "best = fmin(objective, space, algo=tpe.suggest,\n",
    "            max_evals=100, rstate=np.random.RandomState(67))"
   ]
  },
  {
   "cell_type": "code",
   "execution_count": null,
   "metadata": {},
   "outputs": [],
   "source": [
    "{'learning_rate': 0.02, 'max_depth': 2.0, 'n_estimators': 700.0, 'reg_lambda': 1.0, 'thresh': 0.30000000000000004}\n",
    ". AP:                                                                                 \n",
    "0.33682791971468246  \n"
   ]
  },
  {
   "cell_type": "code",
   "execution_count": 643,
   "metadata": {
    "scrolled": true
   },
   "outputs": [
    {
     "ename": "NameError",
     "evalue": "name 'best' is not defined",
     "output_type": "error",
     "traceback": [
      "\u001b[0;31m---------------------------------------------------------------------------\u001b[0m",
      "\u001b[0;31mNameError\u001b[0m                                 Traceback (most recent call last)",
      "\u001b[0;32m<ipython-input-643-2cc4492154d1>\u001b[0m in \u001b[0;36m<module>\u001b[0;34m\u001b[0m\n\u001b[0;32m----> 1\u001b[0;31m \u001b[0mbest\u001b[0m\u001b[0;34m.\u001b[0m\u001b[0mvalues\u001b[0m\u001b[0;34m(\u001b[0m\u001b[0;34m)\u001b[0m\u001b[0;34m\u001b[0m\u001b[0;34m\u001b[0m\u001b[0m\n\u001b[0m",
      "\u001b[0;31mNameError\u001b[0m: name 'best' is not defined"
     ]
    }
   ],
   "source": [
    "best.values()"
   ]
  },
  {
   "cell_type": "code",
   "execution_count": 645,
   "metadata": {},
   "outputs": [
    {
     "name": "stdout",
     "output_type": "stream",
     "text": [
      "Thresh: 0.5 . Number of predicted FPs: 44 . Precision: 0.7272727272727273\n"
     ]
    }
   ],
   "source": [
    "print('Thresh:', thresh, '. Number of predicted FPs:', sub_valid_df['pred_FP'].sum(), \n",
    "          '. Precision:', precision_score(sub_valid_df['FP'], sub_valid_df['pred_FP']))"
   ]
  },
  {
   "cell_type": "code",
   "execution_count": 647,
   "metadata": {},
   "outputs": [
    {
     "data": {
      "text/plain": [
       "{'_init_params': {'reg_lambda': 1,\n",
       "  'random_state': 67,\n",
       "  'n_estimators': 700,\n",
       "  'max_depth': 2,\n",
       "  'verbose': False,\n",
       "  'loss_function': 'RMSE',\n",
       "  'learning_rate': 0.05},\n",
       " '_object': <_catboost._CatBoost at 0x7fe2880dbce0>,\n",
       " '_random_seed': 67,\n",
       " '_learning_rate': 0.05000000074505806,\n",
       " '_tree_count': 700,\n",
       " '_n_features_in': 147,\n",
       " '_prediction_values_change': [22.884270802088913,\n",
       "  1.8826372138336254,\n",
       "  1.5582581631600205,\n",
       "  0.5537552972311844,\n",
       "  0.5132027078405437,\n",
       "  0.746936053492996,\n",
       "  0.5209117596677774,\n",
       "  0.17309710756439275,\n",
       "  0.7674109844521868,\n",
       "  0.42798450807122373,\n",
       "  2.4130421978922767,\n",
       "  0.343385236466311,\n",
       "  0.0,\n",
       "  0.16795477812444295,\n",
       "  0.09594882630274836,\n",
       "  0.5895292784237247,\n",
       "  0.8049625583839563,\n",
       "  3.6312781660073927,\n",
       "  0.921378067653004,\n",
       "  0.36718539284031876,\n",
       "  0.1293113412870325,\n",
       "  0.39061751409615564,\n",
       "  0.26672653776782246,\n",
       "  0.5659599987903579,\n",
       "  0.3410228772894565,\n",
       "  6.5882841486337025,\n",
       "  1.4156796740355424,\n",
       "  0.05154393246184105,\n",
       "  0.10199164227169863,\n",
       "  6.010110979193369,\n",
       "  1.7139571526323236,\n",
       "  0.6934560553633988,\n",
       "  2.0693243473104,\n",
       "  5.20182121576213,\n",
       "  1.5487443383435786,\n",
       "  0.25154199141415795,\n",
       "  0.09487628425450506,\n",
       "  1.1552154383302207,\n",
       "  0.12778991271971435,\n",
       "  0.18373071575577918,\n",
       "  0.035270197244007026,\n",
       "  0.6318147427972055,\n",
       "  0.13345149546231655,\n",
       "  0.45987696916895215,\n",
       "  0.12992035262428706,\n",
       "  0.1055460714158847,\n",
       "  0.23847600944140293,\n",
       "  0.9281531575741028,\n",
       "  0.21693000638834822,\n",
       "  0.06544139124116209,\n",
       "  0.062335607062034656,\n",
       "  0.0608852487231516,\n",
       "  0.57987334726465,\n",
       "  0.12583512819019585,\n",
       "  0.0,\n",
       "  0.02643142781158435,\n",
       "  0.865875741969477,\n",
       "  0.3813173778427773,\n",
       "  0.3338907988784083,\n",
       "  0.14321697131863792,\n",
       "  0.38719964555869785,\n",
       "  0.0,\n",
       "  0.3914022873563387,\n",
       "  0.2259526012569129,\n",
       "  0.5997225705120093,\n",
       "  0.6318603446860557,\n",
       "  0.09876521949102596,\n",
       "  0.2053388854268871,\n",
       "  0.4390936573714462,\n",
       "  0.04489930229091771,\n",
       "  0.06192912556188719,\n",
       "  0.16793112824686676,\n",
       "  0.1622075874924743,\n",
       "  0.22564396907613496,\n",
       "  0.5601208470530399,\n",
       "  0.11132329432663575,\n",
       "  0.6032298944746565,\n",
       "  0.36690335922057066,\n",
       "  0.19173460373152976,\n",
       "  0.08860520340327205,\n",
       "  0.1390569370495306,\n",
       "  0.12529585191838166,\n",
       "  0.0,\n",
       "  1.0680553790840746,\n",
       "  0.03139574841365901,\n",
       "  0.304537905145774,\n",
       "  0.5674457297533295,\n",
       "  0.03221916876120296,\n",
       "  0.3608508508869161,\n",
       "  0.21978245020163195,\n",
       "  0.1451818656457359,\n",
       "  0.5107834799140875,\n",
       "  0.17289643886609182,\n",
       "  0.07427767423770257,\n",
       "  0.0,\n",
       "  0.652871228776289,\n",
       "  0.5199374453318726,\n",
       "  0.7293417489579407,\n",
       "  0.34211679002550766,\n",
       "  0.3551182760436458,\n",
       "  0.34253284801490974,\n",
       "  0.40722967427071555,\n",
       "  0.056226876157422105,\n",
       "  0.062344921139390934,\n",
       "  0.5767964670135721,\n",
       "  0.0,\n",
       "  0.043389807437971016,\n",
       "  0.2903894203989454,\n",
       "  0.0,\n",
       "  0.0,\n",
       "  0.24409728044806644,\n",
       "  0.30246570790814437,\n",
       "  0.0,\n",
       "  0.16692748919377673,\n",
       "  0.09750168856658083,\n",
       "  0.25904256015788846,\n",
       "  0.3021732332748907,\n",
       "  0.03267599626895734,\n",
       "  0.053544203075486026,\n",
       "  0.2902352288971871,\n",
       "  0.012100482813239378,\n",
       "  0.0,\n",
       "  0.186414345496793,\n",
       "  0.061703957360577516,\n",
       "  0.05364596741546962,\n",
       "  0.2356254604479361,\n",
       "  0.019562169083862147,\n",
       "  0.0,\n",
       "  0.28337541762643226,\n",
       "  0.0,\n",
       "  0.01578606388025579,\n",
       "  0.6261702393209676,\n",
       "  1.6249370106889958,\n",
       "  0.5859957692403696,\n",
       "  0.6071339282331244,\n",
       "  1.3116468421255205,\n",
       "  2.5492312659796736,\n",
       "  1.6821968606599713,\n",
       "  0.35847825148439655,\n",
       "  0.06603461115492128,\n",
       "  0.08276341255267672,\n",
       "  0.0,\n",
       "  0.0,\n",
       "  0.0,\n",
       "  0.0,\n",
       "  0.4052188070313767,\n",
       "  0.0]}"
      ]
     },
     "execution_count": 647,
     "metadata": {},
     "output_type": "execute_result"
    }
   ],
   "source": [
    "model.__dict__"
   ]
  },
  {
   "cell_type": "code",
   "execution_count": null,
   "metadata": {},
   "outputs": [],
   "source": [
    "ls"
   ]
  },
  {
   "cell_type": "code",
   "execution_count": null,
   "metadata": {},
   "outputs": [],
   "source": []
  },
  {
   "cell_type": "code",
   "execution_count": null,
   "metadata": {},
   "outputs": [],
   "source": [
    "list_APs = [] \n",
    "image_ids = []\n",
    "cell_types = []\n",
    "TPs = []\n",
    "FPs = []\n",
    "FNs = []\n",
    "logs = []\n",
    "\n",
    "thresh = 0.3\n",
    "valid_df['pred_FP'] = valid_df['pred_iou'] < thresh\n",
    "print('=======================================================')\n",
    "print('Thresh:', thresh, '. Number of predicted FPs:', valid_df['pred_FP'].sum(), \n",
    "      '. Precision:', precision_score(valid_df['FP'], valid_df['pred_FP']))\n",
    "\n",
    "list_APs = []\n",
    "\n",
    "for d in tqdm(valid_ds2, total=len(valid_ds2)):\n",
    "    PKL_FOLDER = get_pkl_folder(d)\n",
    "    path = f'{PKL_FOLDER}/{d[\"image_id\"]}.pkl'\n",
    "\n",
    "    image_id = d['image_id']\n",
    "    TP_list = valid_df[(valid_df['image_id'] == image_id) & (valid_df['pred_FP']==0)].instance_num.tolist()\n",
    "\n",
    "    with open(path, 'rb') as f:\n",
    "        outputs = pickle.load(f)\n",
    "        outputs['instances'] = outputs['instances'].to('cpu')\n",
    "        outputs['instances'] = outputs['instances'][TP_list]\n",
    "\n",
    "    outputs['instances'].pred_masks = outputs['instances'].pred_masks >= 0.5\n",
    "    AP, TP, FP, FN, log = calculate_AP(outputs, d['annotations'])\n",
    "    list_APs.append(AP)\n",
    "    image_ids.append(d['image_id'])\n",
    "    cell_types.append(d['annotations'][0]['category_id'])\n",
    "    TPs.append(TP)\n",
    "    FPs.append(FP)\n",
    "    FNs.append(FN)\n",
    "    logs.append(log)\n",
    "\n",
    "print('AP:', np.mean(list_APs))\n",
    "result_df = pd.DataFrame({'image_id':image_ids, 'cell_type':cell_types, 'AP':list_APs,\n",
    "                              'TP':TPs, 'FP':FPs, 'FN':FNs, 'log':logs})"
   ]
  },
  {
   "cell_type": "code",
   "execution_count": null,
   "metadata": {},
   "outputs": [],
   "source": [
    "result_df.groupby('cell_type').AP.sum() / len(result_df)"
   ]
  },
  {
   "cell_type": "code",
   "execution_count": null,
   "metadata": {},
   "outputs": [],
   "source": []
  },
  {
   "cell_type": "code",
   "execution_count": null,
   "metadata": {},
   "outputs": [],
   "source": []
  },
  {
   "cell_type": "code",
   "execution_count": null,
   "metadata": {},
   "outputs": [],
   "source": []
  },
  {
   "cell_type": "code",
   "execution_count": 80,
   "metadata": {},
   "outputs": [],
   "source": [
    "import torch"
   ]
  },
  {
   "cell_type": "code",
   "execution_count": 112,
   "metadata": {
    "scrolled": true
   },
   "outputs": [
    {
     "name": "stdout",
     "output_type": "stream",
     "text": [
      "=======================================================\n",
      "Thresh: 0.3 . Number of predicted FPs: 68 . Precision: 0.7647058823529411\n"
     ]
    },
    {
     "data": {
      "application/vnd.jupyter.widget-view+json": {
       "model_id": "bdccaaea44e04eb0a3334e39a7abd558",
       "version_major": 2,
       "version_minor": 0
      },
      "text/plain": [
       "  0%|          | 0/63 [00:00<?, ?it/s]"
      ]
     },
     "metadata": {},
     "output_type": "display_data"
    },
    {
     "name": "stdout",
     "output_type": "stream",
     "text": [
      "AP: 0.33642561029835016\n"
     ]
    }
   ],
   "source": [
    "# filter by mask min area\n",
    "list_APs = [] \n",
    "image_ids = []\n",
    "cell_types = []\n",
    "TPs = []\n",
    "FPs = []\n",
    "FNs = []\n",
    "logs = []\n",
    "\n",
    "thresh = 0.3\n",
    "valid_df['pred_FP'] = valid_df['pred_iou'] < thresh\n",
    "print('=======================================================')\n",
    "print('Thresh:', thresh, '. Number of predicted FPs:', valid_df['pred_FP'].sum(), \n",
    "      '. Precision:', precision_score(valid_df['FP'], valid_df['pred_FP']))\n",
    "\n",
    "list_APs = []\n",
    "\n",
    "for d in tqdm(valid_ds2, total=len(valid_ds2)):\n",
    "    PKL_FOLDER = get_pkl_folder(d)\n",
    "    path = f'{PKL_FOLDER}/{d[\"image_id\"]}.pkl'\n",
    "\n",
    "    image_id = d['image_id']\n",
    "    TP_list = valid_df[(valid_df['image_id'] == image_id) & (valid_df['pred_FP']==0)].instance_num.tolist()\n",
    "\n",
    "    with open(path, 'rb') as f:\n",
    "        outputs = pickle.load(f)\n",
    "        outputs['instances'] = outputs['instances'].to('cpu')\n",
    "        outputs['instances'] = outputs['instances'][TP_list]\n",
    "        \n",
    "    outputs = filter_masks_by_area(MASK_MIN_AREA, outputs)\n",
    "\n",
    "    outputs['instances'].pred_masks = outputs['instances'].pred_masks >= 0.5\n",
    "    AP, TP, FP, FN, log = calculate_AP(outputs, d['annotations'])\n",
    "    list_APs.append(AP)\n",
    "    image_ids.append(d['image_id'])\n",
    "    cell_types.append(d['annotations'][0]['category_id'])\n",
    "    TPs.append(TP)\n",
    "    FPs.append(FP)\n",
    "    FNs.append(FN)\n",
    "    logs.append(log)\n",
    "\n",
    "print('AP:', np.mean(list_APs))\n",
    "result_df = pd.DataFrame({'image_id':image_ids, 'cell_type':cell_types, 'AP':list_APs,\n",
    "                              'TP':TPs, 'FP':FPs, 'FN':FNs, 'log':logs})"
   ]
  },
  {
   "cell_type": "code",
   "execution_count": 113,
   "metadata": {},
   "outputs": [
    {
     "data": {
      "text/plain": [
       "cell_type\n",
       "0    0.067655\n",
       "1    0.055549\n",
       "2    0.213221\n",
       "Name: AP, dtype: float64"
      ]
     },
     "execution_count": 113,
     "metadata": {},
     "output_type": "execute_result"
    }
   ],
   "source": [
    "result_df.groupby('cell_type').AP.sum() / len(result_df)"
   ]
  },
  {
   "cell_type": "code",
   "execution_count": null,
   "metadata": {},
   "outputs": [],
   "source": []
  }
 ],
 "metadata": {
  "kernelspec": {
   "display_name": "Python 3",
   "language": "python",
   "name": "python3"
  },
  "language_info": {
   "codemirror_mode": {
    "name": "ipython",
    "version": 3
   },
   "file_extension": ".py",
   "mimetype": "text/x-python",
   "name": "python",
   "nbconvert_exporter": "python",
   "pygments_lexer": "ipython3",
   "version": "3.6.9"
  }
 },
 "nbformat": 4,
 "nbformat_minor": 2
}
